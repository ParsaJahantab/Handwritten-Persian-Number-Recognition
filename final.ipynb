{
 "cells": [
  {
   "cell_type": "code",
   "execution_count": 94,
   "metadata": {},
   "outputs": [],
   "source": [
    "import pandas as pd\n",
    "from keras import utils\n",
    "from keras.models import Sequential\n",
    "from keras.preprocessing.image import ImageDataGenerator\n",
    "from keras.layers import Conv2D, MaxPooling2D, Flatten, Dense, Dropout, BatchNormalization\n",
    "from sklearn.model_selection import train_test_split\n",
    "from keras.utils.vis_utils import plot_model\n",
    "import matplotlib.pyplot as plt\n",
    "from tensorflow.keras.models import load_model\n",
    "import tensorflow as tf\n",
    "import numpy as np\n",
    "import cv2"
   ]
  },
  {
   "cell_type": "markdown",
   "metadata": {},
   "source": [
    "# Section 1 : preprocessing\n"
   ]
  },
  {
   "cell_type": "markdown",
   "metadata": {},
   "source": [
    "## Section 1.1 : function to preprocess data.\n",
    "\n",
    "in this function we process an image so its like minist dataset. "
   ]
  },
  {
   "cell_type": "code",
   "execution_count": 95,
   "metadata": {},
   "outputs": [],
   "source": [
    "def proprocess(image,is_single_digit = True):\n",
    "    \n",
    "        image = cv2.GaussianBlur(image, (1, 1), 0)\n",
    "        image = cv2.medianBlur(image, 3)\n",
    "        \n",
    "        if is_single_digit:\n",
    "                image = cv2.resize(image, (28,28))\n",
    "        grayscale_image = cv2.cvtColor(image, cv2.COLOR_BGR2GRAY)\n",
    "        \n",
    "        threshold_value = 200\n",
    "        replacement_value = 0\n",
    "        mask = grayscale_image < threshold_value\n",
    "        \n",
    "        grayscale_image[mask] = replacement_value\n",
    "        \n",
    "        size = (2, 2)\n",
    "        shape = cv2.MORPH_RECT\n",
    "        kernel = cv2.getStructuringElement(shape, size)\n",
    "        min_image = cv2.erode(grayscale_image, kernel)\n",
    "        \n",
    "        \n",
    "        min_image =  255 - min_image\n",
    "        \n",
    "        \n",
    "        return min_image\n",
    "        "
   ]
  },
  {
   "cell_type": "markdown",
   "metadata": {},
   "source": [
    "## Section 1.2 : prepare train data\n",
    "\n"
   ]
  },
  {
   "cell_type": "code",
   "execution_count": 96,
   "metadata": {},
   "outputs": [
    {
     "data": {
      "image/png": "[encoded data removed]",
      "text/plain": [
       "<Figure size 432x288 with 1 Axes>"
      ]
     },
     "metadata": {
      "needs_background": "light"
     },
     "output_type": "display_data"
    }
   ],
   "source": [
    "digits_datafram = pd.DataFrame()\n",
    "label_dataframe = pd.DataFrame()\n",
    "for i in range (0,10):\n",
    "    for j in range(1,22):\n",
    "        image_file_name = str(i) + \".\" + str(j) + \".jpg\"\n",
    "        image = cv2.imread(image_file_name)\n",
    "        process_image = proprocess(image)\n",
    "        flatten_image = process_image.flatten()\n",
    "        \n",
    "        \n",
    "        \n",
    "        arr_df = pd.DataFrame(flatten_image.reshape(1, -1))\n",
    "\n",
    "        digits_datafram = pd.concat([digits_datafram, arr_df], ignore_index=True)\n",
    "        \n",
    "        \n",
    "        value = i\n",
    "\n",
    "        value_df = pd.DataFrame([value])\n",
    "\n",
    "        label_dataframe = pd.concat([label_dataframe, value_df], ignore_index=True)\n",
    "        \n",
    "\n",
    "digits_datafram.to_csv('digits.csv', index=False)\n",
    "label_dataframe.to_csv('labels.csv' , index=False)\n",
    "sample_image = cv2.resize(process_image, (28,28))\n",
    "plt.imshow(sample_image, cmap='gray')\n",
    "plt.axis('off')\n",
    "plt.show()"
   ]
  },
  {
   "cell_type": "markdown",
   "metadata": {},
   "source": [
    "## Section 1.3 : prepare test data\n"
   ]
  },
  {
   "cell_type": "code",
   "execution_count": 97,
   "metadata": {},
   "outputs": [
    {
     "name": "stdout",
     "output_type": "stream",
     "text": [
      "0.22.jpg\n",
      "0.23.jpg\n",
      "1.22.jpg\n",
      "1.23.jpg\n",
      "2.22.jpg\n",
      "2.23.jpg\n",
      "3.22.jpg\n",
      "3.23.jpg\n",
      "4.22.jpg\n",
      "4.23.jpg\n",
      "5.22.jpg\n",
      "5.23.jpg\n",
      "6.22.jpg\n",
      "6.23.jpg\n",
      "7.22.jpg\n",
      "7.23.jpg\n",
      "8.22.jpg\n",
      "8.23.jpg\n",
      "9.22.jpg\n",
      "9.23.jpg\n"
     ]
    }
   ],
   "source": [
    "digits_test_datafram = pd.DataFrame()\n",
    "label_test_dataframe = pd.DataFrame()\n",
    "for i in range (0,10):\n",
    "    for j in range(22,24):\n",
    "        image_file_name = str(i) + \".\" + str(j) + \".jpg\"\n",
    "        image = cv2.imread(image_file_name)\n",
    "        process_image = proprocess(image)\n",
    "\n",
    "        flatten_image = process_image.flatten()\n",
    "\n",
    "        arr_df = pd.DataFrame(flatten_image.reshape(1, -1))\n",
    "\n",
    "        digits_test_datafram = pd.concat([digits_test_datafram, arr_df], ignore_index=True)\n",
    "        \n",
    "        \n",
    "        value = i\n",
    "\n",
    "        value_df = pd.DataFrame([value])\n",
    "\n",
    "        label_test_dataframe = pd.concat([label_test_dataframe, value_df], ignore_index=True)\n",
    "        \n",
    "        \n",
    "            \n",
    "        print(image_file_name)\n",
    "\n",
    "\n",
    "\n",
    "digits_test_datafram.to_csv('digits_test.csv', index=False)\n",
    "label_test_dataframe.to_csv('labels_test.csv' , index=False)"
   ]
  },
  {
   "cell_type": "markdown",
   "metadata": {},
   "source": [
    "## Section 1.4 : read the data."
   ]
  },
  {
   "cell_type": "code",
   "execution_count": 98,
   "metadata": {},
   "outputs": [],
   "source": [
    "X_train = pd.read_csv(\"digits.csv\").values\n",
    "Y_train = pd.read_csv(\"labels.csv\").values\n",
    "Y_train = utils.to_categorical(Y_train)\n",
    "X_test = pd.read_csv(\"digits_test.csv\").values\n",
    "Y_test = pd.read_csv(\"labels_test.csv\").values"
   ]
  },
  {
   "cell_type": "markdown",
   "metadata": {},
   "source": [
    "# section 2 : ANN"
   ]
  },
  {
   "cell_type": "markdown",
   "metadata": {},
   "source": [
    "## section 2.1 : prepare ANN dataset.\n",
    "first we prepared data to to that we spilit the train set to a train set and a validation set. then we normalize and reshape the data"
   ]
  },
  {
   "cell_type": "code",
   "execution_count": 99,
   "metadata": {},
   "outputs": [],
   "source": [
    "ANN_X_train = X_train.copy()\n",
    "ANN_Y_train = Y_train.copy()\n",
    "ANN_X_test = X_test.copy()\n",
    "ANN_Y_test = Y_test.copy()\n",
    "\n",
    "\n",
    "ANN_X_train, ANN_X_val, ANN_Y_train, ANN_Y_val = train_test_split(ANN_X_train, ANN_Y_train, test_size=0.2, random_state=42)\n",
    "\n",
    "ANN_X_train = ANN_X_train.astype('float32') / 255\n",
    "ANN_X_val = ANN_X_val.astype('float32') / 255\n",
    "ANN_X_train = ANN_X_train.reshape((-1, 28, 28, 1))  \n",
    "ANN_X_val = ANN_X_val.reshape((-1, 28, 28, 1))   \n",
    "ANN_X_test = ANN_X_test.astype('float32') / 255\n",
    "ANN_X_test = ANN_X_test.reshape((-1, 28, 28, 1))  "
   ]
  },
  {
   "cell_type": "markdown",
   "metadata": {},
   "source": [
    "## section 2.2 : ANN model decription.\n",
    "here we describe the ANN model we use to train the model. here is a break down of the layers :\n",
    "\n",
    "\n",
    "1. **Sequential Model**: The model is a Sequential model. This is a linear stack of layers that you can create by passing a list of layer instances to the constructor.\n",
    "\n",
    "2. **First Layer - Dense (128, activation='relu', input_shape=(28*28,))**: This is a densely connected (also known as fully connected) layer with 32 neurons, and 'relu' activation function. The input shape is (28*28,), which is typically for flattened 28x28 pixel images.\n",
    "\n",
    "\n",
    "3. **second Layer - Dense (10, activation='softmax')**: This is the output layer, which is a densely connected layer with 10 neurons (which is typically used for a 10-class classification), and 'softmax' activation function. The softmax function outputs a vector that represents the probability distribution of a list of potential outcomes.\n"
   ]
  },
  {
   "cell_type": "code",
   "execution_count": 100,
   "metadata": {},
   "outputs": [
    {
     "name": "stdout",
     "output_type": "stream",
     "text": [
      "Model: \"sequential_9\"\n",
      "____________________________________________________________________________________________________\n",
      " Layer (type)                                Output Shape                            Param #        \n",
      "====================================================================================================\n",
      " flatten_9 (Flatten)                         (None, 784)                             0              \n",
      "                                                                                                    \n",
      " dense_36 (Dense)                            (None, 128)                             100480         \n",
      "                                                                                                    \n",
      " dense_37 (Dense)                            (None, 10)                              1290           \n",
      "                                                                                                    \n",
      "====================================================================================================\n",
      "Total params: 101,770\n",
      "Trainable params: 101,770\n",
      "Non-trainable params: 0\n",
      "____________________________________________________________________________________________________\n"
     ]
    }
   ],
   "source": [
    "ANN_model = Sequential([\n",
    "    Flatten(input_shape=(28, 28, 1)),\n",
    "    Dense(128, activation='relu',kernel_regularizer=tf.keras.regularizers.l2(0.01)),\n",
    "    Dense(10, activation='softmax')\n",
    "])\n",
    "ANN_model.summary(line_length = 100)"
   ]
  },
  {
   "cell_type": "markdown",
   "metadata": {},
   "source": [
    "## section 2.3 : compile and fit the ANN model.\n",
    "here we use adam optimizer and categorical_crossentropy for loss function to compile the model we use 25 epochs to minimize the loss for validation function."
   ]
  },
  {
   "cell_type": "code",
   "execution_count": 101,
   "metadata": {},
   "outputs": [
    {
     "name": "stdout",
     "output_type": "stream",
     "text": [
      "Epoch 1/50\n"
     ]
    },
    {
     "name": "stdout",
     "output_type": "stream",
     "text": [
      "6/6 - 0s - loss: 4.3973 - accuracy: 0.1429 - val_loss: 4.0074 - val_accuracy: 0.3333 - 429ms/epoch - 72ms/step\n",
      "Epoch 2/50\n",
      "6/6 - 0s - loss: 3.6357 - accuracy: 0.5357 - val_loss: 3.5948 - val_accuracy: 0.5000 - 43ms/epoch - 7ms/step\n",
      "Epoch 3/50\n",
      "6/6 - 0s - loss: 3.0977 - accuracy: 0.7500 - val_loss: 3.2695 - val_accuracy: 0.5238 - 39ms/epoch - 6ms/step\n",
      "Epoch 4/50\n",
      "6/6 - 0s - loss: 2.6646 - accuracy: 0.8095 - val_loss: 3.0038 - val_accuracy: 0.5714 - 35ms/epoch - 6ms/step\n",
      "Epoch 5/50\n",
      "6/6 - 0s - loss: 2.3249 - accuracy: 0.8393 - val_loss: 2.8119 - val_accuracy: 0.5238 - 42ms/epoch - 7ms/step\n",
      "Epoch 6/50\n",
      "6/6 - 0s - loss: 2.0661 - accuracy: 0.8750 - val_loss: 2.6442 - val_accuracy: 0.5000 - 35ms/epoch - 6ms/step\n",
      "Epoch 7/50\n",
      "6/6 - 0s - loss: 1.8414 - accuracy: 0.8929 - val_loss: 2.5206 - val_accuracy: 0.5714 - 38ms/epoch - 6ms/step\n",
      "Epoch 8/50\n",
      "6/6 - 0s - loss: 1.6696 - accuracy: 0.9048 - val_loss: 2.3875 - val_accuracy: 0.5952 - 33ms/epoch - 5ms/step\n",
      "Epoch 9/50\n",
      "6/6 - 0s - loss: 1.5220 - accuracy: 0.9345 - val_loss: 2.2979 - val_accuracy: 0.6190 - 38ms/epoch - 6ms/step\n",
      "Epoch 10/50\n",
      "6/6 - 0s - loss: 1.3955 - accuracy: 0.9345 - val_loss: 2.2214 - val_accuracy: 0.5476 - 39ms/epoch - 6ms/step\n",
      "Epoch 11/50\n",
      "6/6 - 0s - loss: 1.2949 - accuracy: 0.9583 - val_loss: 2.1659 - val_accuracy: 0.5476 - 35ms/epoch - 6ms/step\n",
      "Epoch 12/50\n",
      "6/6 - 0s - loss: 1.1978 - accuracy: 0.9821 - val_loss: 2.0958 - val_accuracy: 0.5714 - 34ms/epoch - 6ms/step\n",
      "Epoch 13/50\n",
      "6/6 - 0s - loss: 1.1246 - accuracy: 0.9762 - val_loss: 2.0716 - val_accuracy: 0.5952 - 36ms/epoch - 6ms/step\n",
      "Epoch 14/50\n",
      "6/6 - 0s - loss: 1.0534 - accuracy: 0.9821 - val_loss: 2.0467 - val_accuracy: 0.5714 - 36ms/epoch - 6ms/step\n",
      "Epoch 15/50\n",
      "6/6 - 0s - loss: 0.9912 - accuracy: 0.9940 - val_loss: 2.0133 - val_accuracy: 0.5476 - 35ms/epoch - 6ms/step\n",
      "Epoch 16/50\n",
      "6/6 - 0s - loss: 0.9343 - accuracy: 0.9940 - val_loss: 1.9687 - val_accuracy: 0.5476 - 37ms/epoch - 6ms/step\n",
      "Epoch 17/50\n",
      "6/6 - 0s - loss: 0.8858 - accuracy: 0.9940 - val_loss: 1.9608 - val_accuracy: 0.5476 - 34ms/epoch - 6ms/step\n",
      "Epoch 18/50\n",
      "6/6 - 0s - loss: 0.8450 - accuracy: 0.9940 - val_loss: 1.9379 - val_accuracy: 0.5476 - 36ms/epoch - 6ms/step\n",
      "Epoch 19/50\n",
      "6/6 - 0s - loss: 0.8018 - accuracy: 0.9940 - val_loss: 1.9460 - val_accuracy: 0.5238 - 35ms/epoch - 6ms/step\n",
      "Epoch 20/50\n",
      "6/6 - 0s - loss: 0.7667 - accuracy: 0.9940 - val_loss: 1.9085 - val_accuracy: 0.5476 - 32ms/epoch - 5ms/step\n",
      "Epoch 21/50\n",
      "6/6 - 0s - loss: 0.7340 - accuracy: 0.9940 - val_loss: 1.8840 - val_accuracy: 0.5952 - 33ms/epoch - 5ms/step\n",
      "Epoch 22/50\n",
      "6/6 - 0s - loss: 0.7026 - accuracy: 0.9940 - val_loss: 1.8604 - val_accuracy: 0.5476 - 32ms/epoch - 5ms/step\n",
      "Epoch 23/50\n",
      "6/6 - 0s - loss: 0.6740 - accuracy: 1.0000 - val_loss: 1.8626 - val_accuracy: 0.5238 - 32ms/epoch - 5ms/step\n",
      "Epoch 24/50\n",
      "6/6 - 0s - loss: 0.6462 - accuracy: 1.0000 - val_loss: 1.8606 - val_accuracy: 0.5476 - 33ms/epoch - 6ms/step\n",
      "Epoch 25/50\n",
      "6/6 - 0s - loss: 0.6233 - accuracy: 1.0000 - val_loss: 1.8317 - val_accuracy: 0.5714 - 32ms/epoch - 5ms/step\n",
      "Epoch 26/50\n",
      "6/6 - 0s - loss: 0.5992 - accuracy: 1.0000 - val_loss: 1.8164 - val_accuracy: 0.5714 - 29ms/epoch - 5ms/step\n",
      "Epoch 27/50\n",
      "6/6 - 0s - loss: 0.5798 - accuracy: 1.0000 - val_loss: 1.8176 - val_accuracy: 0.5238 - 31ms/epoch - 5ms/step\n",
      "Epoch 28/50\n",
      "6/6 - 0s - loss: 0.5577 - accuracy: 1.0000 - val_loss: 1.7796 - val_accuracy: 0.5476 - 30ms/epoch - 5ms/step\n",
      "Epoch 29/50\n",
      "6/6 - 0s - loss: 0.5429 - accuracy: 0.9940 - val_loss: 1.7877 - val_accuracy: 0.5714 - 28ms/epoch - 5ms/step\n",
      "Epoch 30/50\n",
      "6/6 - 0s - loss: 0.5254 - accuracy: 1.0000 - val_loss: 1.8108 - val_accuracy: 0.5000 - 28ms/epoch - 5ms/step\n",
      "Epoch 31/50\n",
      "6/6 - 0s - loss: 0.5090 - accuracy: 1.0000 - val_loss: 1.7896 - val_accuracy: 0.5000 - 31ms/epoch - 5ms/step\n",
      "Epoch 32/50\n",
      "6/6 - 0s - loss: 0.4892 - accuracy: 1.0000 - val_loss: 1.7819 - val_accuracy: 0.5238 - 29ms/epoch - 5ms/step\n",
      "Epoch 33/50\n",
      "6/6 - 0s - loss: 0.4730 - accuracy: 1.0000 - val_loss: 1.7555 - val_accuracy: 0.5238 - 30ms/epoch - 5ms/step\n",
      "Epoch 34/50\n",
      "6/6 - 0s - loss: 0.4590 - accuracy: 1.0000 - val_loss: 1.7274 - val_accuracy: 0.5238 - 31ms/epoch - 5ms/step\n",
      "Epoch 35/50\n",
      "6/6 - 0s - loss: 0.4449 - accuracy: 1.0000 - val_loss: 1.7384 - val_accuracy: 0.5238 - 29ms/epoch - 5ms/step\n",
      "Epoch 36/50\n",
      "6/6 - 0s - loss: 0.4330 - accuracy: 1.0000 - val_loss: 1.7262 - val_accuracy: 0.5238 - 30ms/epoch - 5ms/step\n",
      "Epoch 37/50\n",
      "6/6 - 0s - loss: 0.4199 - accuracy: 1.0000 - val_loss: 1.7124 - val_accuracy: 0.5238 - 28ms/epoch - 5ms/step\n",
      "Epoch 38/50\n",
      "6/6 - 0s - loss: 0.4098 - accuracy: 1.0000 - val_loss: 1.7146 - val_accuracy: 0.5238 - 29ms/epoch - 5ms/step\n",
      "Epoch 39/50\n",
      "6/6 - 0s - loss: 0.3991 - accuracy: 1.0000 - val_loss: 1.7158 - val_accuracy: 0.5000 - 30ms/epoch - 5ms/step\n",
      "Epoch 40/50\n",
      "6/6 - 0s - loss: 0.3873 - accuracy: 1.0000 - val_loss: 1.7178 - val_accuracy: 0.5000 - 30ms/epoch - 5ms/step\n",
      "Epoch 41/50\n",
      "6/6 - 0s - loss: 0.3781 - accuracy: 1.0000 - val_loss: 1.7002 - val_accuracy: 0.4524 - 30ms/epoch - 5ms/step\n",
      "Epoch 42/50\n",
      "6/6 - 0s - loss: 0.3694 - accuracy: 1.0000 - val_loss: 1.7046 - val_accuracy: 0.5000 - 29ms/epoch - 5ms/step\n",
      "Epoch 43/50\n",
      "6/6 - 0s - loss: 0.3586 - accuracy: 1.0000 - val_loss: 1.6859 - val_accuracy: 0.4762 - 30ms/epoch - 5ms/step\n",
      "Epoch 44/50\n",
      "6/6 - 0s - loss: 0.3517 - accuracy: 1.0000 - val_loss: 1.6521 - val_accuracy: 0.4524 - 30ms/epoch - 5ms/step\n",
      "Epoch 45/50\n",
      "6/6 - 0s - loss: 0.3433 - accuracy: 1.0000 - val_loss: 1.6494 - val_accuracy: 0.4762 - 28ms/epoch - 5ms/step\n",
      "Epoch 46/50\n",
      "6/6 - 0s - loss: 0.3346 - accuracy: 1.0000 - val_loss: 1.6765 - val_accuracy: 0.5238 - 30ms/epoch - 5ms/step\n",
      "Epoch 47/50\n",
      "6/6 - 0s - loss: 0.3275 - accuracy: 1.0000 - val_loss: 1.6445 - val_accuracy: 0.5000 - 29ms/epoch - 5ms/step\n",
      "Epoch 48/50\n",
      "6/6 - 0s - loss: 0.3190 - accuracy: 1.0000 - val_loss: 1.6409 - val_accuracy: 0.5000 - 30ms/epoch - 5ms/step\n",
      "Epoch 49/50\n",
      "6/6 - 0s - loss: 0.3131 - accuracy: 1.0000 - val_loss: 1.6414 - val_accuracy: 0.5000 - 30ms/epoch - 5ms/step\n",
      "Epoch 50/50\n",
      "6/6 - 0s - loss: 0.3064 - accuracy: 1.0000 - val_loss: 1.6299 - val_accuracy: 0.4762 - 29ms/epoch - 5ms/step\n"
     ]
    }
   ],
   "source": [
    "\n",
    "ANN_model.compile(loss='categorical_crossentropy', optimizer='adam', metrics=['accuracy'])\n",
    "\n",
    "history = ANN_model.fit(\n",
    "    ANN_X_train, ANN_Y_train,\n",
    "    epochs=50,\n",
    "    verbose=2,\n",
    "    validation_data=(ANN_X_val, ANN_Y_val),\n",
    ")\n",
    "\n"
   ]
  },
  {
   "cell_type": "markdown",
   "metadata": {},
   "source": [
    "## section 2.4 : visulaize the history of loss and accurcy of train and validation set.\n",
    "in this section we use the matplotlib libary to plot the loss and accuracy of both train and model set."
   ]
  },
  {
   "cell_type": "code",
   "execution_count": 102,
   "metadata": {},
   "outputs": [
    {
     "data": {
      "image/png": "[encoded data removed]",
      "text/plain": [
       "<Figure size 720x288 with 2 Axes>"
      ]
     },
     "metadata": {
      "needs_background": "light"
     },
     "output_type": "display_data"
    }
   ],
   "source": [
    "\n",
    "plt.figure(figsize=(10, 4))\n",
    "\n",
    "plt.subplot(1, 2, 1)  \n",
    "plt.plot(history.history['loss'])\n",
    "plt.plot(history.history['val_loss'])\n",
    "plt.title('Model Loss')\n",
    "plt.ylabel('Loss')\n",
    "plt.xlabel('Epoch')\n",
    "plt.legend(['Train', 'Validation'], loc='upper left')\n",
    "\n",
    "plt.subplot(1, 2, 2)  \n",
    "plt.plot(history.history['accuracy'])\n",
    "plt.plot(history.history['val_accuracy'])\n",
    "plt.title('Model Accuracy')\n",
    "plt.ylabel('Accuracy')\n",
    "plt.xlabel('Epoch')\n",
    "plt.legend(['Train', 'Validation'], loc='upper left')\n",
    "\n",
    "plt.tight_layout() \n",
    "plt.show()"
   ]
  },
  {
   "cell_type": "markdown",
   "metadata": {},
   "source": [
    "# section 2.5 : Test.\n",
    "as we can see the loss and accuracy of the validation set is very low which is good and now we can verify that the model is good by putting it to test."
   ]
  },
  {
   "cell_type": "code",
   "execution_count": 103,
   "metadata": {},
   "outputs": [
    {
     "name": "stdout",
     "output_type": "stream",
     "text": [
      "1/1 [==============================] - 0s 42ms/step\n",
      "0\n",
      "1/1 [==============================] - 0s 17ms/step\n",
      "0\n",
      "1/1 [==============================] - 0s 17ms/step\n",
      "1\n",
      "1/1 [==============================] - 0s 15ms/step\n",
      "1\n",
      "1/1 [==============================] - 0s 15ms/step\n",
      "2\n",
      "1/1 [==============================] - 0s 16ms/step\n",
      "2\n",
      "1/1 [==============================] - 0s 15ms/step\n",
      "3\n",
      "1/1 [==============================] - 0s 14ms/step\n",
      "2\n",
      "1/1 [==============================] - 0s 14ms/step\n",
      "4\n",
      "1/1 [==============================] - 0s 15ms/step\n",
      "3\n",
      "1/1 [==============================] - 0s 15ms/step\n",
      "0\n",
      "1/1 [==============================] - 0s 15ms/step\n",
      "5\n",
      "1/1 [==============================] - 0s 15ms/step\n",
      "6\n",
      "1/1 [==============================] - 0s 15ms/step\n",
      "9\n",
      "1/1 [==============================] - 0s 14ms/step\n",
      "7\n",
      "1/1 [==============================] - 0s 15ms/step\n",
      "7\n",
      "1/1 [==============================] - 0s 15ms/step\n",
      "8\n",
      "1/1 [==============================] - 0s 15ms/step\n",
      "8\n",
      "1/1 [==============================] - 0s 15ms/step\n",
      "9\n",
      "1/1 [==============================] - 0s 15ms/step\n",
      "9\n",
      "accuracy : 16 / 20\n",
      "1/1 [==============================] - 0s 15ms/step\n",
      "0\n"
     ]
    },
    {
     "data": {
      "image/png": "[encoded data removed]",
      "text/plain": [
       "<Figure size 432x288 with 1 Axes>"
      ]
     },
     "metadata": {
      "needs_background": "light"
     },
     "output_type": "display_data"
    }
   ],
   "source": [
    "\n",
    "correct = 0\n",
    "for i,test_sample in enumerate (ANN_X_test):\n",
    "    predictions = ANN_model.predict(np.expand_dims(test_sample, axis=0))\n",
    "    Y_test = Y_test.reshape(1,20)\n",
    "    print(np.argmax(predictions[0]))\n",
    "    if np.argmax(predictions[0]) == Y_test[0][i]:\n",
    "        correct +=1       \n",
    "print(f\"accuracy : {correct} / 20\")\n",
    "       \n",
    "test_sample = ANN_X_test[1]\n",
    "\n",
    "image = np.array(test_sample).reshape(28, 28)\n",
    "\n",
    "\n",
    "plt.imshow(image , cmap=\"gray\")\n",
    "plt.axis(\"off\")\n",
    "\n",
    "\n",
    "predictions = ANN_model.predict(np.expand_dims(test_sample, axis=0))\n",
    "\n",
    "print(np.argmax(predictions[0])) "
   ]
  },
  {
   "cell_type": "markdown",
   "metadata": {},
   "source": [
    "# section 3 : CNN"
   ]
  },
  {
   "cell_type": "markdown",
   "metadata": {},
   "source": [
    "## section 3.1 : prepare CNN dataset.\n",
    "first we prepared data to to that we spilit the train set to a train set and a validation set. then we normalize and reshape the data"
   ]
  },
  {
   "cell_type": "code",
   "execution_count": 104,
   "metadata": {},
   "outputs": [],
   "source": [
    "CNN_X_train = X_train.copy()\n",
    "CNN_Y_train = Y_train.copy()\n",
    "CNN_X_test = X_test.copy()\n",
    "CNN_Y_test = Y_test.copy()\n",
    "\n",
    "CNN_X_train, CNN_X_val, CNN_Y_train, CNN_Y_val = train_test_split(CNN_X_train, CNN_Y_train, test_size=0.2, random_state=42)\n",
    "\n",
    "CNN_X_train = CNN_X_train.astype('float32') / 255\n",
    "CNN_X_val = CNN_X_val.astype('float32') / 255\n",
    "CNN_X_train = CNN_X_train.reshape((-1, 28, 28, 1))  \n",
    "CNN_X_val = CNN_X_val.reshape((-1, 28, 28, 1))    \n",
    "CNN_X_test = X_test.astype('float32') / 255\n",
    "CNN_X_test = X_test.reshape((-1, 28, 28, 1))        "
   ]
  },
  {
   "cell_type": "markdown",
   "metadata": {},
   "source": [
    "## section 3.2 : model decription.\n",
    "here we describe the CNN model we use to train the model. here is a break down of the layers :\n",
    "1. **Sequential Model**: The model is a Sequential model. This is a linear stack of layers that you can create by passing a list of layer instances to the constructor.\n",
    "\n",
    "2. **First Layer - Conv2D (filters=32, kernel_size=(3, 3), activation='relu', input_shape=(28, 28, 1), kernel_regularizer=tf.keras.regularizers.l2(0.01),padding='same')**: This is a 2D convolution layer (spatial convolution over images) with 32 filters, a kernel size of 3x3, 'relu' activation function, and L2 regularization with a factor of 0.01. The input shape is (28, 28, 1), which is typically for 28x28 pixel grayscale images. The padding is set to 'same' which means the output has the same width and height as the original input.\n",
    "\n",
    "3. **Second Layer - Conv2D (filters=32, kernel_size=(3, 3), activation='relu', kernel_regularizer=tf.keras.regularizers.l2(0.01),padding='same')**: This is another 2D convolution layer with the same parameters as the first layer.\n",
    "\n",
    "4. **Third Layer - MaxPooling2D (pool_size=(2, 2))**: This is a max pooling operation for 2D spatial data. The pool size is 2x2, which will reduce the spatial dimensions (width, height) of the input by half.\n",
    "\n",
    "5. **Fourth and Fifth Layers**: These are similar to the first three layers but with different number of filters in the Conv2D layer.\n",
    "\n",
    "6. **Sixth Layer - MaxPooling2D (pool_size=(2, 2))**: This is another max pooling layer with the same parameters as the third layer.\n",
    "\n",
    "7. **Seventh and Eighth Layers**: These are similar to the first three layers but with different number of filters in the Conv2D layer.\n",
    "\n",
    "9. **Ninth Layer - MaxPooling2D (pool_size=(2, 2))**: This is another max pooling layer with the same parameters as the third layer.\n",
    "\n",
    "10. **Tenth Layer - Dropout (0.2)**: This is a Dropout layer, which randomly sets a fraction (0.2 in this case) of the input units to 0 at each update during training, which helps prevent overfitting.\n",
    "\n",
    "11. **Eleventh Layer - Flatten()**: This layer flattens the input. It does not affect the batch size. It's used when transitioning between convolutional layers and fully connected layers.\n",
    "\n",
    "12. **Twelfth Layer - Dense (128, activation='relu', kernel_regularizer=tf.keras.regularizers.l2(0.01))**: This is a densely connected (also known as fully connected) layer with 128 neurons, and 'relu' activation function. It also has L2 regularization with a factor of 0.01.\n",
    "\n",
    "13. **Thirteenth Layer - Dense (10, activation='softmax', kernel_regularizer=tf.keras.regularizers.l2(0.01))**: This is the output layer, which is a densely connected layer with 10 neurons (which is typically used for a 10-class classification), and 'softmax' activation function. The softmax function outputs a vector that represents the probability distribution of a list of potential outcomes. It also has L2 regularization with a factor of 0.01.\n"
   ]
  },
  {
   "cell_type": "code",
   "execution_count": 105,
   "metadata": {},
   "outputs": [
    {
     "name": "stdout",
     "output_type": "stream",
     "text": [
      "Model: \"sequential_10\"\n",
      "____________________________________________________________________________________________________\n",
      " Layer (type)                                Output Shape                            Param #        \n",
      "====================================================================================================\n",
      " conv2d_18 (Conv2D)                          (None, 28, 28, 32)                      320            \n",
      "                                                                                                    \n",
      " conv2d_19 (Conv2D)                          (None, 28, 28, 32)                      9248           \n",
      "                                                                                                    \n",
      " max_pooling2d_9 (MaxPooling2D)              (None, 14, 14, 32)                      0              \n",
      "                                                                                                    \n",
      " conv2d_20 (Conv2D)                          (None, 14, 14, 32)                      9248           \n",
      "                                                                                                    \n",
      " conv2d_21 (Conv2D)                          (None, 14, 14, 64)                      18496          \n",
      "                                                                                                    \n",
      " max_pooling2d_10 (MaxPooling2D)             (None, 7, 7, 64)                        0              \n",
      "                                                                                                    \n",
      " conv2d_22 (Conv2D)                          (None, 7, 7, 32)                        18464          \n",
      "                                                                                                    \n",
      " conv2d_23 (Conv2D)                          (None, 7, 7, 128)                       36992          \n",
      "                                                                                                    \n",
      " max_pooling2d_11 (MaxPooling2D)             (None, 3, 3, 128)                       0              \n",
      "                                                                                                    \n",
      " dropout_24 (Dropout)                        (None, 3, 3, 128)                       0              \n",
      "                                                                                                    \n",
      " flatten_10 (Flatten)                        (None, 1152)                            0              \n",
      "                                                                                                    \n",
      " dense_38 (Dense)                            (None, 128)                             147584         \n",
      "                                                                                                    \n",
      " dense_39 (Dense)                            (None, 10)                              1290           \n",
      "                                                                                                    \n",
      "====================================================================================================\n",
      "Total params: 241,642\n",
      "Trainable params: 241,642\n",
      "Non-trainable params: 0\n",
      "____________________________________________________________________________________________________\n"
     ]
    }
   ],
   "source": [
    "\n",
    "CNN_model = Sequential([\n",
    "    Conv2D(filters=32, kernel_size=(3, 3), activation='relu', input_shape=(28, 28, 1), kernel_regularizer=tf.keras.regularizers.l2(0.01),padding='same'), \n",
    "    Conv2D(filters=32, kernel_size=(3, 3), activation='relu', kernel_regularizer=tf.keras.regularizers.l2(0.01),padding='same'), \n",
    "    MaxPooling2D(pool_size=(2, 2)),\n",
    "    \n",
    "    Conv2D(filters=32, kernel_size=(3, 3), activation='relu', kernel_regularizer=tf.keras.regularizers.l2(0.01),padding='same'), \n",
    "    Conv2D(filters=64, kernel_size=(3, 3), activation='relu', kernel_regularizer=tf.keras.regularizers.l2(0.01),padding='same'),\n",
    "    MaxPooling2D(pool_size=(2, 2)),\n",
    "\n",
    "    Conv2D(filters=32, kernel_size=(3, 3), activation='relu', kernel_regularizer=tf.keras.regularizers.l2(0.01),padding='same'), \n",
    "    Conv2D(filters=128, kernel_size=(3, 3), activation='relu', kernel_regularizer=tf.keras.regularizers.l2(0.01),padding='same'),\n",
    "    MaxPooling2D(pool_size=(2, 2)),\n",
    "    \n",
    "    Dropout(0.2),\n",
    "    Flatten(),\n",
    "    \n",
    "    Dense(128, activation='relu', kernel_regularizer=tf.keras.regularizers.l2(0.01)),\n",
    "    \n",
    "    Dense(10, activation='softmax', kernel_regularizer=tf.keras.regularizers.l2(0.01))  \n",
    "])\n",
    "CNN_model.summary(line_length = 100)\n"
   ]
  },
  {
   "cell_type": "markdown",
   "metadata": {},
   "source": [
    "## section 3.3 : compile and fit the model.\n",
    "here we use adam optimizer and categorical_crossentropy for loss function to compile the model we use 100 epochs to minimize the loss for validation function."
   ]
  },
  {
   "cell_type": "code",
   "execution_count": 106,
   "metadata": {},
   "outputs": [
    {
     "name": "stdout",
     "output_type": "stream",
     "text": [
      "Epoch 1/100\n"
     ]
    },
    {
     "name": "stdout",
     "output_type": "stream",
     "text": [
      "6/6 - 1s - loss: 6.4725 - accuracy: 0.1310 - val_loss: 5.8965 - val_accuracy: 0.1429 - 1s/epoch - 174ms/step\n",
      "Epoch 2/100\n",
      "6/6 - 0s - loss: 5.6111 - accuracy: 0.1548 - val_loss: 5.1216 - val_accuracy: 0.3095 - 391ms/epoch - 65ms/step\n",
      "Epoch 3/100\n",
      "6/6 - 0s - loss: 4.8900 - accuracy: 0.2381 - val_loss: 4.4439 - val_accuracy: 0.1190 - 394ms/epoch - 66ms/step\n",
      "Epoch 4/100\n",
      "6/6 - 0s - loss: 4.1917 - accuracy: 0.2917 - val_loss: 3.5713 - val_accuracy: 0.4048 - 408ms/epoch - 68ms/step\n",
      "Epoch 5/100\n",
      "6/6 - 0s - loss: 3.3953 - accuracy: 0.4583 - val_loss: 3.3296 - val_accuracy: 0.3333 - 386ms/epoch - 64ms/step\n",
      "Epoch 6/100\n",
      "6/6 - 0s - loss: 3.0104 - accuracy: 0.5179 - val_loss: 2.8370 - val_accuracy: 0.5000 - 413ms/epoch - 69ms/step\n",
      "Epoch 7/100\n",
      "6/6 - 0s - loss: 2.5597 - accuracy: 0.6250 - val_loss: 2.4849 - val_accuracy: 0.5476 - 385ms/epoch - 64ms/step\n",
      "Epoch 8/100\n",
      "6/6 - 0s - loss: 2.1309 - accuracy: 0.7083 - val_loss: 2.7179 - val_accuracy: 0.4762 - 397ms/epoch - 66ms/step\n",
      "Epoch 9/100\n",
      "6/6 - 0s - loss: 2.0001 - accuracy: 0.7500 - val_loss: 2.3755 - val_accuracy: 0.5476 - 404ms/epoch - 67ms/step\n",
      "Epoch 10/100\n",
      "6/6 - 0s - loss: 1.8718 - accuracy: 0.7798 - val_loss: 2.1656 - val_accuracy: 0.5714 - 412ms/epoch - 69ms/step\n",
      "Epoch 11/100\n",
      "6/6 - 0s - loss: 1.6491 - accuracy: 0.8036 - val_loss: 1.9356 - val_accuracy: 0.6429 - 395ms/epoch - 66ms/step\n",
      "Epoch 12/100\n",
      "6/6 - 0s - loss: 1.4977 - accuracy: 0.8631 - val_loss: 2.0580 - val_accuracy: 0.6667 - 390ms/epoch - 65ms/step\n",
      "Epoch 13/100\n",
      "6/6 - 0s - loss: 1.5235 - accuracy: 0.8452 - val_loss: 2.0881 - val_accuracy: 0.6905 - 390ms/epoch - 65ms/step\n",
      "Epoch 14/100\n",
      "6/6 - 0s - loss: 1.4792 - accuracy: 0.8333 - val_loss: 1.8782 - val_accuracy: 0.6429 - 399ms/epoch - 66ms/step\n",
      "Epoch 15/100\n",
      "6/6 - 0s - loss: 1.4091 - accuracy: 0.8512 - val_loss: 1.7731 - val_accuracy: 0.6429 - 388ms/epoch - 65ms/step\n",
      "Epoch 16/100\n",
      "6/6 - 0s - loss: 1.2851 - accuracy: 0.9286 - val_loss: 1.6686 - val_accuracy: 0.7381 - 389ms/epoch - 65ms/step\n",
      "Epoch 17/100\n",
      "6/6 - 0s - loss: 1.1826 - accuracy: 0.9524 - val_loss: 1.7501 - val_accuracy: 0.6905 - 390ms/epoch - 65ms/step\n",
      "Epoch 18/100\n",
      "6/6 - 0s - loss: 1.1607 - accuracy: 0.9345 - val_loss: 2.0092 - val_accuracy: 0.6190 - 394ms/epoch - 66ms/step\n",
      "Epoch 19/100\n",
      "6/6 - 0s - loss: 1.1413 - accuracy: 0.9345 - val_loss: 2.0135 - val_accuracy: 0.5952 - 391ms/epoch - 65ms/step\n",
      "Epoch 20/100\n",
      "6/6 - 0s - loss: 1.0397 - accuracy: 0.9762 - val_loss: 1.7044 - val_accuracy: 0.6905 - 385ms/epoch - 64ms/step\n",
      "Epoch 21/100\n",
      "6/6 - 0s - loss: 1.0610 - accuracy: 0.9524 - val_loss: 1.7904 - val_accuracy: 0.6667 - 393ms/epoch - 66ms/step\n",
      "Epoch 22/100\n",
      "6/6 - 0s - loss: 0.9885 - accuracy: 0.9762 - val_loss: 1.6194 - val_accuracy: 0.7857 - 374ms/epoch - 62ms/step\n",
      "Epoch 23/100\n",
      "6/6 - 0s - loss: 1.0277 - accuracy: 0.9583 - val_loss: 2.1038 - val_accuracy: 0.6429 - 385ms/epoch - 64ms/step\n",
      "Epoch 24/100\n",
      "6/6 - 0s - loss: 0.9876 - accuracy: 0.9762 - val_loss: 2.0253 - val_accuracy: 0.6905 - 400ms/epoch - 67ms/step\n",
      "Epoch 25/100\n",
      "6/6 - 0s - loss: 0.9941 - accuracy: 0.9524 - val_loss: 1.5206 - val_accuracy: 0.7619 - 341ms/epoch - 57ms/step\n",
      "Epoch 26/100\n",
      "6/6 - 0s - loss: 0.9039 - accuracy: 0.9940 - val_loss: 1.8314 - val_accuracy: 0.6905 - 336ms/epoch - 56ms/step\n",
      "Epoch 27/100\n",
      "6/6 - 0s - loss: 0.8958 - accuracy: 0.9881 - val_loss: 1.9083 - val_accuracy: 0.6905 - 338ms/epoch - 56ms/step\n",
      "Epoch 28/100\n",
      "6/6 - 0s - loss: 0.9331 - accuracy: 0.9405 - val_loss: 1.9521 - val_accuracy: 0.6429 - 325ms/epoch - 54ms/step\n",
      "Epoch 29/100\n",
      "6/6 - 0s - loss: 0.8876 - accuracy: 0.9702 - val_loss: 1.5688 - val_accuracy: 0.7381 - 345ms/epoch - 58ms/step\n",
      "Epoch 30/100\n",
      "6/6 - 0s - loss: 0.9136 - accuracy: 0.9702 - val_loss: 1.6813 - val_accuracy: 0.6905 - 339ms/epoch - 57ms/step\n",
      "Epoch 31/100\n",
      "6/6 - 0s - loss: 0.9177 - accuracy: 0.9524 - val_loss: 1.5114 - val_accuracy: 0.7143 - 340ms/epoch - 57ms/step\n",
      "Epoch 32/100\n",
      "6/6 - 0s - loss: 0.8956 - accuracy: 0.9643 - val_loss: 1.4000 - val_accuracy: 0.6667 - 343ms/epoch - 57ms/step\n",
      "Epoch 33/100\n",
      "6/6 - 0s - loss: 0.8178 - accuracy: 0.9881 - val_loss: 1.5236 - val_accuracy: 0.7143 - 349ms/epoch - 58ms/step\n",
      "Epoch 34/100\n",
      "6/6 - 0s - loss: 0.7936 - accuracy: 0.9881 - val_loss: 1.4624 - val_accuracy: 0.7143 - 334ms/epoch - 56ms/step\n",
      "Epoch 35/100\n",
      "6/6 - 0s - loss: 0.7819 - accuracy: 0.9881 - val_loss: 1.5238 - val_accuracy: 0.7857 - 330ms/epoch - 55ms/step\n",
      "Epoch 36/100\n",
      "6/6 - 0s - loss: 0.7622 - accuracy: 0.9940 - val_loss: 1.6203 - val_accuracy: 0.7143 - 343ms/epoch - 57ms/step\n",
      "Epoch 37/100\n",
      "6/6 - 0s - loss: 0.7547 - accuracy: 0.9881 - val_loss: 1.5512 - val_accuracy: 0.6190 - 329ms/epoch - 55ms/step\n",
      "Epoch 38/100\n",
      "6/6 - 0s - loss: 0.7306 - accuracy: 1.0000 - val_loss: 1.4068 - val_accuracy: 0.7619 - 343ms/epoch - 57ms/step\n",
      "Epoch 39/100\n",
      "6/6 - 0s - loss: 0.7294 - accuracy: 0.9881 - val_loss: 1.4216 - val_accuracy: 0.7381 - 346ms/epoch - 58ms/step\n",
      "Epoch 40/100\n",
      "6/6 - 0s - loss: 0.7063 - accuracy: 0.9940 - val_loss: 1.4886 - val_accuracy: 0.6667 - 327ms/epoch - 54ms/step\n",
      "Epoch 41/100\n",
      "6/6 - 0s - loss: 0.6866 - accuracy: 1.0000 - val_loss: 1.4376 - val_accuracy: 0.7381 - 341ms/epoch - 57ms/step\n",
      "Epoch 42/100\n",
      "6/6 - 0s - loss: 0.6783 - accuracy: 1.0000 - val_loss: 1.6310 - val_accuracy: 0.6905 - 405ms/epoch - 68ms/step\n",
      "Epoch 43/100\n",
      "6/6 - 0s - loss: 0.6715 - accuracy: 0.9940 - val_loss: 1.4868 - val_accuracy: 0.6667 - 344ms/epoch - 57ms/step\n",
      "Epoch 44/100\n",
      "6/6 - 0s - loss: 0.6680 - accuracy: 0.9940 - val_loss: 1.3694 - val_accuracy: 0.7143 - 357ms/epoch - 59ms/step\n",
      "Epoch 45/100\n",
      "6/6 - 0s - loss: 0.6360 - accuracy: 1.0000 - val_loss: 1.5976 - val_accuracy: 0.7381 - 344ms/epoch - 57ms/step\n",
      "Epoch 46/100\n",
      "6/6 - 0s - loss: 0.6485 - accuracy: 0.9881 - val_loss: 1.4491 - val_accuracy: 0.6905 - 343ms/epoch - 57ms/step\n",
      "Epoch 47/100\n",
      "6/6 - 0s - loss: 0.6369 - accuracy: 0.9940 - val_loss: 1.6610 - val_accuracy: 0.6667 - 340ms/epoch - 57ms/step\n",
      "Epoch 48/100\n",
      "6/6 - 0s - loss: 0.6436 - accuracy: 0.9643 - val_loss: 1.3948 - val_accuracy: 0.7143 - 336ms/epoch - 56ms/step\n",
      "Epoch 49/100\n",
      "6/6 - 0s - loss: 0.6159 - accuracy: 0.9881 - val_loss: 1.4090 - val_accuracy: 0.7619 - 343ms/epoch - 57ms/step\n",
      "Epoch 50/100\n",
      "6/6 - 0s - loss: 0.6171 - accuracy: 0.9821 - val_loss: 1.7025 - val_accuracy: 0.5952 - 334ms/epoch - 56ms/step\n",
      "Epoch 51/100\n",
      "6/6 - 0s - loss: 0.6331 - accuracy: 0.9821 - val_loss: 1.4863 - val_accuracy: 0.6429 - 330ms/epoch - 55ms/step\n",
      "Epoch 52/100\n",
      "6/6 - 0s - loss: 0.6914 - accuracy: 0.9524 - val_loss: 1.6011 - val_accuracy: 0.6905 - 345ms/epoch - 57ms/step\n",
      "Epoch 53/100\n",
      "6/6 - 0s - loss: 0.6588 - accuracy: 0.9702 - val_loss: 1.2379 - val_accuracy: 0.7381 - 336ms/epoch - 56ms/step\n",
      "Epoch 54/100\n",
      "6/6 - 0s - loss: 0.6164 - accuracy: 0.9881 - val_loss: 1.5350 - val_accuracy: 0.8095 - 336ms/epoch - 56ms/step\n",
      "Epoch 55/100\n",
      "6/6 - 0s - loss: 0.6287 - accuracy: 0.9940 - val_loss: 1.5114 - val_accuracy: 0.7143 - 338ms/epoch - 56ms/step\n",
      "Epoch 56/100\n",
      "6/6 - 0s - loss: 0.6082 - accuracy: 0.9940 - val_loss: 1.3544 - val_accuracy: 0.7857 - 338ms/epoch - 56ms/step\n",
      "Epoch 57/100\n",
      "6/6 - 0s - loss: 0.5873 - accuracy: 1.0000 - val_loss: 1.4484 - val_accuracy: 0.7381 - 343ms/epoch - 57ms/step\n",
      "Epoch 58/100\n",
      "6/6 - 0s - loss: 0.5741 - accuracy: 0.9940 - val_loss: 1.5017 - val_accuracy: 0.7381 - 338ms/epoch - 56ms/step\n",
      "Epoch 59/100\n",
      "6/6 - 0s - loss: 0.5652 - accuracy: 0.9940 - val_loss: 1.5335 - val_accuracy: 0.7381 - 337ms/epoch - 56ms/step\n",
      "Epoch 60/100\n",
      "6/6 - 0s - loss: 0.5505 - accuracy: 1.0000 - val_loss: 1.4804 - val_accuracy: 0.7381 - 339ms/epoch - 56ms/step\n",
      "Epoch 61/100\n",
      "6/6 - 0s - loss: 0.5438 - accuracy: 1.0000 - val_loss: 1.3418 - val_accuracy: 0.7857 - 335ms/epoch - 56ms/step\n",
      "Epoch 62/100\n",
      "6/6 - 0s - loss: 0.5303 - accuracy: 1.0000 - val_loss: 1.2924 - val_accuracy: 0.7619 - 336ms/epoch - 56ms/step\n",
      "Epoch 63/100\n",
      "6/6 - 0s - loss: 0.5199 - accuracy: 1.0000 - val_loss: 1.2827 - val_accuracy: 0.7143 - 331ms/epoch - 55ms/step\n",
      "Epoch 64/100\n",
      "6/6 - 0s - loss: 0.5110 - accuracy: 1.0000 - val_loss: 1.2499 - val_accuracy: 0.7381 - 333ms/epoch - 56ms/step\n",
      "Epoch 65/100\n",
      "6/6 - 0s - loss: 0.5082 - accuracy: 0.9940 - val_loss: 1.2959 - val_accuracy: 0.6905 - 336ms/epoch - 56ms/step\n",
      "Epoch 66/100\n",
      "6/6 - 0s - loss: 0.5254 - accuracy: 0.9881 - val_loss: 2.0065 - val_accuracy: 0.5000 - 376ms/epoch - 63ms/step\n",
      "Epoch 67/100\n",
      "6/6 - 0s - loss: 0.8424 - accuracy: 0.9107 - val_loss: 1.0548 - val_accuracy: 0.7381 - 336ms/epoch - 56ms/step\n",
      "Epoch 68/100\n",
      "6/6 - 0s - loss: 0.8417 - accuracy: 0.8988 - val_loss: 1.1582 - val_accuracy: 0.7381 - 355ms/epoch - 59ms/step\n",
      "Epoch 69/100\n",
      "6/6 - 0s - loss: 0.7047 - accuracy: 0.9524 - val_loss: 1.1447 - val_accuracy: 0.7381 - 338ms/epoch - 56ms/step\n",
      "Epoch 70/100\n",
      "6/6 - 0s - loss: 0.6251 - accuracy: 0.9583 - val_loss: 1.2168 - val_accuracy: 0.6905 - 380ms/epoch - 63ms/step\n",
      "Epoch 71/100\n",
      "6/6 - 0s - loss: 0.5802 - accuracy: 0.9702 - val_loss: 1.3415 - val_accuracy: 0.7143 - 339ms/epoch - 57ms/step\n",
      "Epoch 72/100\n",
      "6/6 - 0s - loss: 0.5574 - accuracy: 0.9762 - val_loss: 1.3909 - val_accuracy: 0.7381 - 338ms/epoch - 56ms/step\n",
      "Epoch 73/100\n",
      "6/6 - 0s - loss: 0.5183 - accuracy: 1.0000 - val_loss: 1.4201 - val_accuracy: 0.6429 - 341ms/epoch - 57ms/step\n",
      "Epoch 74/100\n",
      "6/6 - 0s - loss: 0.5172 - accuracy: 1.0000 - val_loss: 1.2363 - val_accuracy: 0.7143 - 342ms/epoch - 57ms/step\n",
      "Epoch 75/100\n",
      "6/6 - 0s - loss: 0.5056 - accuracy: 1.0000 - val_loss: 1.2089 - val_accuracy: 0.7143 - 336ms/epoch - 56ms/step\n",
      "Epoch 76/100\n",
      "6/6 - 0s - loss: 0.5010 - accuracy: 0.9940 - val_loss: 1.3413 - val_accuracy: 0.7143 - 343ms/epoch - 57ms/step\n",
      "Epoch 77/100\n",
      "6/6 - 0s - loss: 0.4927 - accuracy: 0.9940 - val_loss: 1.3461 - val_accuracy: 0.6667 - 336ms/epoch - 56ms/step\n",
      "Epoch 78/100\n",
      "6/6 - 0s - loss: 0.4773 - accuracy: 1.0000 - val_loss: 1.2366 - val_accuracy: 0.7143 - 337ms/epoch - 56ms/step\n",
      "Epoch 79/100\n",
      "6/6 - 0s - loss: 0.4682 - accuracy: 1.0000 - val_loss: 1.2991 - val_accuracy: 0.6905 - 340ms/epoch - 57ms/step\n",
      "Epoch 80/100\n",
      "6/6 - 0s - loss: 0.4613 - accuracy: 1.0000 - val_loss: 1.2649 - val_accuracy: 0.6667 - 331ms/epoch - 55ms/step\n",
      "Epoch 81/100\n",
      "6/6 - 0s - loss: 0.4535 - accuracy: 1.0000 - val_loss: 1.3184 - val_accuracy: 0.6905 - 337ms/epoch - 56ms/step\n",
      "Epoch 82/100\n",
      "6/6 - 0s - loss: 0.4501 - accuracy: 1.0000 - val_loss: 1.2343 - val_accuracy: 0.6905 - 344ms/epoch - 57ms/step\n",
      "Epoch 83/100\n",
      "6/6 - 0s - loss: 0.4440 - accuracy: 1.0000 - val_loss: 1.3291 - val_accuracy: 0.7143 - 336ms/epoch - 56ms/step\n",
      "Epoch 84/100\n",
      "6/6 - 0s - loss: 0.4286 - accuracy: 1.0000 - val_loss: 1.1784 - val_accuracy: 0.7143 - 339ms/epoch - 56ms/step\n",
      "Epoch 85/100\n",
      "6/6 - 0s - loss: 0.4260 - accuracy: 1.0000 - val_loss: 1.1022 - val_accuracy: 0.7619 - 335ms/epoch - 56ms/step\n",
      "Epoch 86/100\n",
      "6/6 - 0s - loss: 0.4366 - accuracy: 0.9940 - val_loss: 1.1989 - val_accuracy: 0.7619 - 348ms/epoch - 58ms/step\n",
      "Epoch 87/100\n",
      "6/6 - 0s - loss: 0.4339 - accuracy: 0.9940 - val_loss: 1.2876 - val_accuracy: 0.6667 - 336ms/epoch - 56ms/step\n",
      "Epoch 88/100\n",
      "6/6 - 0s - loss: 0.4318 - accuracy: 0.9881 - val_loss: 1.1711 - val_accuracy: 0.6905 - 340ms/epoch - 57ms/step\n",
      "Epoch 89/100\n",
      "6/6 - 0s - loss: 0.4235 - accuracy: 0.9940 - val_loss: 1.2427 - val_accuracy: 0.6905 - 337ms/epoch - 56ms/step\n",
      "Epoch 90/100\n",
      "6/6 - 0s - loss: 0.5411 - accuracy: 0.9643 - val_loss: 1.1031 - val_accuracy: 0.7143 - 339ms/epoch - 57ms/step\n",
      "Epoch 91/100\n",
      "6/6 - 0s - loss: 0.4744 - accuracy: 0.9821 - val_loss: 1.1551 - val_accuracy: 0.6905 - 339ms/epoch - 56ms/step\n",
      "Epoch 92/100\n",
      "6/6 - 0s - loss: 0.4128 - accuracy: 1.0000 - val_loss: 1.2732 - val_accuracy: 0.7619 - 338ms/epoch - 56ms/step\n",
      "Epoch 93/100\n",
      "6/6 - 0s - loss: 0.4224 - accuracy: 1.0000 - val_loss: 1.1650 - val_accuracy: 0.7857 - 338ms/epoch - 56ms/step\n",
      "Epoch 94/100\n",
      "6/6 - 0s - loss: 0.4199 - accuracy: 0.9881 - val_loss: 1.4278 - val_accuracy: 0.7381 - 341ms/epoch - 57ms/step\n",
      "Epoch 95/100\n",
      "6/6 - 0s - loss: 0.4422 - accuracy: 0.9881 - val_loss: 1.4139 - val_accuracy: 0.6429 - 334ms/epoch - 56ms/step\n",
      "Epoch 96/100\n",
      "6/6 - 0s - loss: 0.4835 - accuracy: 0.9762 - val_loss: 1.7001 - val_accuracy: 0.6667 - 336ms/epoch - 56ms/step\n",
      "Epoch 97/100\n",
      "6/6 - 0s - loss: 0.4697 - accuracy: 0.9762 - val_loss: 1.3331 - val_accuracy: 0.6905 - 338ms/epoch - 56ms/step\n",
      "Epoch 98/100\n",
      "6/6 - 0s - loss: 0.4664 - accuracy: 0.9702 - val_loss: 1.1756 - val_accuracy: 0.7143 - 337ms/epoch - 56ms/step\n",
      "Epoch 99/100\n",
      "6/6 - 0s - loss: 0.4395 - accuracy: 0.9821 - val_loss: 1.2833 - val_accuracy: 0.7381 - 337ms/epoch - 56ms/step\n",
      "Epoch 100/100\n",
      "6/6 - 0s - loss: 0.4445 - accuracy: 0.9821 - val_loss: 1.4668 - val_accuracy: 0.7381 - 341ms/epoch - 57ms/step\n"
     ]
    }
   ],
   "source": [
    "CNN_model.compile(loss='categorical_crossentropy', optimizer='adam', metrics=['accuracy'])\n",
    "\n",
    "history = CNN_model.fit(\n",
    "    CNN_X_train, CNN_Y_train,\n",
    "    epochs=100,\n",
    "    verbose=2,\n",
    "    validation_data=(CNN_X_val, CNN_Y_val),\n",
    ")\n"
   ]
  },
  {
   "cell_type": "markdown",
   "metadata": {},
   "source": [
    "# section 3.4 : visulaize the history of loss and accurcy of train and validation set.\n",
    "in this section we use the matplotlib libary to plot the loss and accuracy of both train and model set."
   ]
  },
  {
   "cell_type": "code",
   "execution_count": 107,
   "metadata": {},
   "outputs": [
    {
     "data": {
      "image/png": "[encoded data removed]",
      "text/plain": [
       "<Figure size 720x288 with 2 Axes>"
      ]
     },
     "metadata": {
      "needs_background": "light"
     },
     "output_type": "display_data"
    }
   ],
   "source": [
    "\n",
    "\n",
    "plt.figure(figsize=(10, 4))\n",
    "\n",
    "plt.subplot(1, 2, 1)  \n",
    "plt.plot(history.history['loss'])\n",
    "plt.plot(history.history['val_loss'])\n",
    "plt.title('Model Loss')\n",
    "plt.ylabel('Loss')\n",
    "plt.xlabel('Epoch')\n",
    "plt.legend(['Train', 'Validation'], loc='upper left')\n",
    "\n",
    "plt.subplot(1, 2, 2)  \n",
    "plt.plot(history.history['accuracy'])\n",
    "plt.plot(history.history['val_accuracy'])\n",
    "plt.title('Model Accuracy')\n",
    "plt.ylabel('Accuracy')\n",
    "plt.xlabel('Epoch')\n",
    "plt.legend(['Train', 'Validation'], loc='upper left')\n",
    "\n",
    "plt.tight_layout() \n",
    "plt.show()\n",
    "\n"
   ]
  },
  {
   "cell_type": "markdown",
   "metadata": {},
   "source": [
    "# section 3.5 : Test.\n",
    "as we can see the loss and accuracy of the validation set is very low which is good and now we can verify that the model is good by putting it to test. \n",
    "if its good we can be sure that overfitting has not happend."
   ]
  },
  {
   "cell_type": "code",
   "execution_count": 108,
   "metadata": {},
   "outputs": [
    {
     "name": "stdout",
     "output_type": "stream",
     "text": [
      "1/1 [==============================] - 0s 73ms/step\n",
      "0\n",
      "1/1 [==============================] - 0s 16ms/step\n",
      "0\n",
      "1/1 [==============================] - 0s 18ms/step\n",
      "1\n",
      "1/1 [==============================] - 0s 16ms/step\n",
      "1\n",
      "1/1 [==============================] - 0s 16ms/step\n",
      "2\n",
      "1/1 [==============================] - 0s 15ms/step\n",
      "2\n",
      "1/1 [==============================] - 0s 28ms/step\n",
      "3\n",
      "1/1 [==============================] - 0s 18ms/step\n",
      "3\n",
      "1/1 [==============================] - 0s 17ms/step\n",
      "4\n",
      "1/1 [==============================] - 0s 16ms/step\n",
      "4\n",
      "1/1 [==============================] - 0s 16ms/step\n",
      "0\n",
      "1/1 [==============================] - 0s 17ms/step\n",
      "0\n",
      "1/1 [==============================] - 0s 16ms/step\n",
      "6\n",
      "1/1 [==============================] - 0s 18ms/step\n",
      "6\n",
      "1/1 [==============================] - 0s 17ms/step\n",
      "7\n",
      "1/1 [==============================] - 0s 16ms/step\n",
      "7\n",
      "1/1 [==============================] - 0s 16ms/step\n",
      "8\n",
      "1/1 [==============================] - 0s 18ms/step\n",
      "8\n",
      "1/1 [==============================] - 0s 17ms/step\n",
      "9\n",
      "1/1 [==============================] - 0s 16ms/step\n",
      "9\n",
      "accuracy rate : 18 / 20\n",
      "1/1 [==============================] - 0s 17ms/step\n",
      "0\n"
     ]
    },
    {
     "data": {
      "image/png": "[encoded data removed]",
      "text/plain": [
       "<Figure size 432x288 with 1 Axes>"
      ]
     },
     "metadata": {
      "needs_background": "light"
     },
     "output_type": "display_data"
    }
   ],
   "source": [
    "correct = 0\n",
    "\n",
    "for i,test_sample in enumerate (CNN_X_test):\n",
    "    predictions = CNN_model.predict(np.expand_dims(test_sample, axis=0))\n",
    "    Y_test = Y_test.reshape(1,20)\n",
    "    print(np.argmax(predictions[0]))\n",
    "    if np.argmax(predictions[0]) == Y_test[0][i]:\n",
    "        correct +=1\n",
    "    \n",
    "        \n",
    "print(f\"accuracy rate : {correct} / 20\" )\n",
    "    \n",
    "    \n",
    "test_sample = CNN_X_test[1]\n",
    "\n",
    "image = np.array(test_sample).reshape(28, 28)\n",
    "\n",
    "\n",
    "plt.imshow(image , cmap=\"gray\")\n",
    "plt.axis(\"off\")\n",
    "\n",
    "\n",
    "predictions = CNN_model.predict(np.expand_dims(test_sample, axis=0))\n",
    "\n",
    "\n",
    "\n",
    "print(np.argmax(predictions[0])) "
   ]
  },
  {
   "cell_type": "markdown",
   "metadata": {},
   "source": [
    "# section 4 : ANN with data augmentation."
   ]
  },
  {
   "cell_type": "markdown",
   "metadata": {},
   "source": [
    "## section 4.1 : prepare ANN augmentation dataset.\n",
    "first we prepared data to to that we spilit the train set to a train set and a validation set. then we normalize and reshape the data"
   ]
  },
  {
   "cell_type": "code",
   "execution_count": 109,
   "metadata": {},
   "outputs": [],
   "source": [
    "ANN_AUG_X_train = X_train.copy()\n",
    "ANN_AUG_Y_train = Y_train.copy()\n",
    "ANN_AUG_X_test = X_test.copy()\n",
    "ANN_AUG_Y_test = Y_test.copy()\n",
    "\n",
    "\n",
    "ANN_AUG_X_train, ANN_AUG_X_val, ANN_AUG_Y_train, ANN_AUG_Y_val = train_test_split(ANN_AUG_X_train, ANN_AUG_Y_train, test_size=0.3, random_state=42)\n",
    "\n",
    "ANN_AUG_X_train = ANN_AUG_X_train.astype('float32') / 255\n",
    "ANN_AUG_X_val = ANN_AUG_X_val.astype('float32') / 255\n",
    "ANN_AUG_X_train = ANN_AUG_X_train.reshape((-1, 28, 28, 1))  \n",
    "ANN_AUG_X_val = ANN_AUG_X_val.reshape((-1, 28, 28, 1))   \n",
    "ANN_AUG_X_test = ANN_AUG_X_test.astype('float32') / 255\n",
    "ANN_AUG_X_test = ANN_AUG_X_test.reshape((-1, 28, 28, 1))  "
   ]
  },
  {
   "cell_type": "markdown",
   "metadata": {},
   "source": [
    "## section 4.2 : image generation for augmentation."
   ]
  },
  {
   "cell_type": "code",
   "execution_count": 110,
   "metadata": {},
   "outputs": [],
   "source": [
    "data_gen = ImageDataGenerator(\n",
    "    rotation_range=3,\n",
    "    width_shift_range=0.7,\n",
    "    height_shift_range=0.7,\n",
    "    # shear_range=0.2,\n",
    "    # zoom_range=0.1,\n",
    "    # horizontal_flip=True,\n",
    "    fill_mode='nearest'\n",
    ")"
   ]
  },
  {
   "cell_type": "markdown",
   "metadata": {},
   "source": [
    "## section 4.3 : complex ANN Model\n",
    "the previos model results in underfitting so we can define a new , more complex model for ANN."
   ]
  },
  {
   "cell_type": "code",
   "execution_count": 111,
   "metadata": {},
   "outputs": [
    {
     "name": "stdout",
     "output_type": "stream",
     "text": [
      "Model: \"sequential_11\"\n",
      "____________________________________________________________________________________________________\n",
      " Layer (type)                                Output Shape                            Param #        \n",
      "====================================================================================================\n",
      " flatten_11 (Flatten)                        (None, 784)                             0              \n",
      "                                                                                                    \n",
      " dense_40 (Dense)                            (None, 2048)                            1607680        \n",
      "                                                                                                    \n",
      " dropout_25 (Dropout)                        (None, 2048)                            0              \n",
      "                                                                                                    \n",
      " dense_41 (Dense)                            (None, 1024)                            2098176        \n",
      "                                                                                                    \n",
      " dropout_26 (Dropout)                        (None, 1024)                            0              \n",
      "                                                                                                    \n",
      " dense_42 (Dense)                            (None, 512)                             524800         \n",
      "                                                                                                    \n",
      " dropout_27 (Dropout)                        (None, 512)                             0              \n",
      "                                                                                                    \n",
      " dense_43 (Dense)                            (None, 256)                             131328         \n",
      "                                                                                                    \n",
      " dropout_28 (Dropout)                        (None, 256)                             0              \n",
      "                                                                                                    \n",
      " dense_44 (Dense)                            (None, 128)                             32896          \n",
      "                                                                                                    \n",
      " dropout_29 (Dropout)                        (None, 128)                             0              \n",
      "                                                                                                    \n",
      " dense_45 (Dense)                            (None, 64)                              8256           \n",
      "                                                                                                    \n",
      " dropout_30 (Dropout)                        (None, 64)                              0              \n",
      "                                                                                                    \n",
      " dense_46 (Dense)                            (None, 32)                              2080           \n",
      "                                                                                                    \n",
      " dropout_31 (Dropout)                        (None, 32)                              0              \n",
      "                                                                                                    \n",
      " dense_47 (Dense)                            (None, 10)                              330            \n",
      "                                                                                                    \n",
      "====================================================================================================\n",
      "Total params: 4,405,546\n",
      "Trainable params: 4,405,546\n",
      "Non-trainable params: 0\n",
      "____________________________________________________________________________________________________\n"
     ]
    }
   ],
   "source": [
    "complex_ANN_model = Sequential([\n",
    "    Flatten(input_shape=(28, 28, 1)),\n",
    "    Dense(2048, activation='relu',),\n",
    "    Dropout(0.4),\n",
    "    Dense(1024, activation='relu', ),\n",
    "    Dropout(0.4),\n",
    "    Dense(512, activation='relu' ),\n",
    "    Dropout(0.4),\n",
    "    Dense(256, activation='relu'),\n",
    "    Dropout(0.4),\n",
    "    Dense(128, activation='relu',),\n",
    "    Dropout(0.4),\n",
    "    Dense(64, activation='relu',),\n",
    "    Dropout(0.4),\n",
    "    Dense(32, activation='relu', ),\n",
    "    Dropout(0.4),\n",
    "    Dense(10, activation='softmax')\n",
    "])\n",
    "\n",
    "complex_ANN_model.summary(line_length = 100)\n"
   ]
  },
  {
   "cell_type": "markdown",
   "metadata": {},
   "source": [
    "## section 4.4 : compile and fit the model.\n",
    "here we use adam optimizer and categorical_crossentropy for loss function to compile the model we use 130 epochs to minimize the loss for validation function."
   ]
  },
  {
   "cell_type": "code",
   "execution_count": 112,
   "metadata": {},
   "outputs": [
    {
     "name": "stdout",
     "output_type": "stream",
     "text": [
      "Epoch 1/130\n"
     ]
    },
    {
     "name": "stdout",
     "output_type": "stream",
     "text": [
      "5/5 - 1s - loss: 2.3557 - accuracy: 0.0884 - val_loss: 2.3018 - val_accuracy: 0.1111 - 839ms/epoch - 168ms/step\n",
      "Epoch 2/130\n",
      "5/5 - 0s - loss: 2.3491 - accuracy: 0.1361 - val_loss: 2.3104 - val_accuracy: 0.0635 - 238ms/epoch - 48ms/step\n",
      "Epoch 3/130\n",
      "5/5 - 0s - loss: 2.3566 - accuracy: 0.0816 - val_loss: 2.3126 - val_accuracy: 0.1111 - 240ms/epoch - 48ms/step\n",
      "Epoch 4/130\n",
      "5/5 - 0s - loss: 2.3736 - accuracy: 0.1497 - val_loss: 2.3091 - val_accuracy: 0.0635 - 248ms/epoch - 50ms/step\n",
      "Epoch 5/130\n",
      "5/5 - 0s - loss: 2.3500 - accuracy: 0.1156 - val_loss: 2.3071 - val_accuracy: 0.0635 - 263ms/epoch - 53ms/step\n",
      "Epoch 6/130\n",
      "5/5 - 0s - loss: 2.3626 - accuracy: 0.0952 - val_loss: 2.3133 - val_accuracy: 0.1111 - 260ms/epoch - 52ms/step\n",
      "Epoch 7/130\n",
      "5/5 - 0s - loss: 2.3019 - accuracy: 0.1088 - val_loss: 2.3081 - val_accuracy: 0.0476 - 248ms/epoch - 50ms/step\n",
      "Epoch 8/130\n",
      "5/5 - 0s - loss: 2.3250 - accuracy: 0.1020 - val_loss: 2.3078 - val_accuracy: 0.1111 - 243ms/epoch - 49ms/step\n",
      "Epoch 9/130\n",
      "5/5 - 0s - loss: 2.3340 - accuracy: 0.1361 - val_loss: 2.3111 - val_accuracy: 0.1429 - 243ms/epoch - 49ms/step\n",
      "Epoch 10/130\n",
      "5/5 - 0s - loss: 2.2922 - accuracy: 0.0816 - val_loss: 2.3036 - val_accuracy: 0.1111 - 235ms/epoch - 47ms/step\n",
      "Epoch 11/130\n",
      "5/5 - 0s - loss: 2.3492 - accuracy: 0.1361 - val_loss: 2.3134 - val_accuracy: 0.1587 - 234ms/epoch - 47ms/step\n",
      "Epoch 12/130\n",
      "5/5 - 0s - loss: 2.3036 - accuracy: 0.1224 - val_loss: 2.3083 - val_accuracy: 0.1270 - 226ms/epoch - 45ms/step\n",
      "Epoch 13/130\n",
      "5/5 - 0s - loss: 2.3479 - accuracy: 0.1020 - val_loss: 2.3085 - val_accuracy: 0.1270 - 296ms/epoch - 59ms/step\n",
      "Epoch 14/130\n",
      "5/5 - 0s - loss: 2.3457 - accuracy: 0.0952 - val_loss: 2.3114 - val_accuracy: 0.1111 - 283ms/epoch - 57ms/step\n",
      "Epoch 15/130\n",
      "5/5 - 0s - loss: 2.2973 - accuracy: 0.1224 - val_loss: 2.3056 - val_accuracy: 0.0952 - 271ms/epoch - 54ms/step\n",
      "Epoch 16/130\n",
      "5/5 - 0s - loss: 2.3309 - accuracy: 0.1088 - val_loss: 2.3109 - val_accuracy: 0.0952 - 300ms/epoch - 60ms/step\n",
      "Epoch 17/130\n",
      "5/5 - 0s - loss: 2.3137 - accuracy: 0.1361 - val_loss: 2.3055 - val_accuracy: 0.1270 - 403ms/epoch - 81ms/step\n",
      "Epoch 18/130\n",
      "5/5 - 0s - loss: 2.2952 - accuracy: 0.1020 - val_loss: 2.3136 - val_accuracy: 0.0952 - 305ms/epoch - 61ms/step\n",
      "Epoch 19/130\n",
      "5/5 - 0s - loss: 2.2758 - accuracy: 0.1224 - val_loss: 2.3189 - val_accuracy: 0.1270 - 318ms/epoch - 64ms/step\n",
      "Epoch 20/130\n",
      "5/5 - 0s - loss: 2.2844 - accuracy: 0.1361 - val_loss: 2.3134 - val_accuracy: 0.1111 - 249ms/epoch - 50ms/step\n",
      "Epoch 21/130\n",
      "5/5 - 0s - loss: 2.3512 - accuracy: 0.0884 - val_loss: 2.3059 - val_accuracy: 0.1429 - 257ms/epoch - 51ms/step\n",
      "Epoch 22/130\n",
      "5/5 - 0s - loss: 2.2920 - accuracy: 0.1429 - val_loss: 2.3069 - val_accuracy: 0.0952 - 274ms/epoch - 55ms/step\n",
      "Epoch 23/130\n",
      "5/5 - 0s - loss: 2.3223 - accuracy: 0.1361 - val_loss: 2.3049 - val_accuracy: 0.1270 - 288ms/epoch - 58ms/step\n",
      "Epoch 24/130\n",
      "5/5 - 0s - loss: 2.3205 - accuracy: 0.1224 - val_loss: 2.3072 - val_accuracy: 0.0794 - 266ms/epoch - 53ms/step\n",
      "Epoch 25/130\n",
      "5/5 - 0s - loss: 2.3324 - accuracy: 0.0884 - val_loss: 2.3071 - val_accuracy: 0.0952 - 265ms/epoch - 53ms/step\n",
      "Epoch 26/130\n",
      "5/5 - 0s - loss: 2.3060 - accuracy: 0.1497 - val_loss: 2.3060 - val_accuracy: 0.1746 - 275ms/epoch - 55ms/step\n",
      "Epoch 27/130\n",
      "5/5 - 0s - loss: 2.3417 - accuracy: 0.1156 - val_loss: 2.3084 - val_accuracy: 0.1111 - 253ms/epoch - 51ms/step\n",
      "Epoch 28/130\n",
      "5/5 - 0s - loss: 2.3012 - accuracy: 0.1156 - val_loss: 2.3084 - val_accuracy: 0.0794 - 275ms/epoch - 55ms/step\n",
      "Epoch 29/130\n",
      "5/5 - 0s - loss: 2.3090 - accuracy: 0.1293 - val_loss: 2.3041 - val_accuracy: 0.1270 - 275ms/epoch - 55ms/step\n",
      "Epoch 30/130\n",
      "5/5 - 0s - loss: 2.3215 - accuracy: 0.1088 - val_loss: 2.3089 - val_accuracy: 0.1111 - 300ms/epoch - 60ms/step\n",
      "Epoch 31/130\n",
      "5/5 - 0s - loss: 2.3223 - accuracy: 0.1224 - val_loss: 2.3068 - val_accuracy: 0.1270 - 261ms/epoch - 52ms/step\n",
      "Epoch 32/130\n",
      "5/5 - 0s - loss: 2.3049 - accuracy: 0.1156 - val_loss: 2.3056 - val_accuracy: 0.1429 - 293ms/epoch - 59ms/step\n",
      "Epoch 33/130\n",
      "5/5 - 0s - loss: 2.2982 - accuracy: 0.1224 - val_loss: 2.3063 - val_accuracy: 0.0952 - 276ms/epoch - 55ms/step\n",
      "Epoch 34/130\n",
      "5/5 - 0s - loss: 2.2978 - accuracy: 0.1497 - val_loss: 2.3107 - val_accuracy: 0.0952 - 230ms/epoch - 46ms/step\n",
      "Epoch 35/130\n",
      "5/5 - 0s - loss: 2.2901 - accuracy: 0.1156 - val_loss: 2.3148 - val_accuracy: 0.0952 - 243ms/epoch - 49ms/step\n",
      "Epoch 36/130\n",
      "5/5 - 0s - loss: 2.3063 - accuracy: 0.0748 - val_loss: 2.3134 - val_accuracy: 0.0952 - 243ms/epoch - 49ms/step\n",
      "Epoch 37/130\n",
      "5/5 - 0s - loss: 2.3037 - accuracy: 0.1429 - val_loss: 2.3135 - val_accuracy: 0.0794 - 250ms/epoch - 50ms/step\n",
      "Epoch 38/130\n",
      "5/5 - 0s - loss: 2.3208 - accuracy: 0.1088 - val_loss: 2.3165 - val_accuracy: 0.1111 - 251ms/epoch - 50ms/step\n",
      "Epoch 39/130\n",
      "5/5 - 0s - loss: 2.3281 - accuracy: 0.1020 - val_loss: 2.3069 - val_accuracy: 0.1111 - 348ms/epoch - 70ms/step\n",
      "Epoch 40/130\n",
      "5/5 - 0s - loss: 2.3070 - accuracy: 0.1020 - val_loss: 2.3081 - val_accuracy: 0.1429 - 269ms/epoch - 54ms/step\n",
      "Epoch 41/130\n",
      "5/5 - 0s - loss: 2.3078 - accuracy: 0.0816 - val_loss: 2.3106 - val_accuracy: 0.1429 - 262ms/epoch - 52ms/step\n",
      "Epoch 42/130\n",
      "5/5 - 0s - loss: 2.2890 - accuracy: 0.1361 - val_loss: 2.3146 - val_accuracy: 0.1270 - 233ms/epoch - 47ms/step\n",
      "Epoch 43/130\n",
      "5/5 - 0s - loss: 2.2909 - accuracy: 0.1905 - val_loss: 2.3188 - val_accuracy: 0.0635 - 250ms/epoch - 50ms/step\n",
      "Epoch 44/130\n",
      "5/5 - 0s - loss: 2.3059 - accuracy: 0.1497 - val_loss: 2.3193 - val_accuracy: 0.1270 - 244ms/epoch - 49ms/step\n",
      "Epoch 45/130\n",
      "5/5 - 0s - loss: 2.3115 - accuracy: 0.1020 - val_loss: 2.3105 - val_accuracy: 0.1111 - 259ms/epoch - 52ms/step\n",
      "Epoch 46/130\n",
      "5/5 - 0s - loss: 2.3083 - accuracy: 0.1361 - val_loss: 2.3147 - val_accuracy: 0.0635 - 267ms/epoch - 53ms/step\n",
      "Epoch 47/130\n",
      "5/5 - 0s - loss: 2.2958 - accuracy: 0.1020 - val_loss: 2.3124 - val_accuracy: 0.0794 - 256ms/epoch - 51ms/step\n",
      "Epoch 48/130\n",
      "5/5 - 0s - loss: 2.3125 - accuracy: 0.1156 - val_loss: 2.3149 - val_accuracy: 0.1111 - 247ms/epoch - 49ms/step\n",
      "Epoch 49/130\n",
      "5/5 - 0s - loss: 2.3130 - accuracy: 0.1224 - val_loss: 2.3158 - val_accuracy: 0.0794 - 243ms/epoch - 49ms/step\n",
      "Epoch 50/130\n",
      "5/5 - 0s - loss: 2.3001 - accuracy: 0.1156 - val_loss: 2.3157 - val_accuracy: 0.0476 - 264ms/epoch - 53ms/step\n",
      "Epoch 51/130\n",
      "5/5 - 0s - loss: 2.2890 - accuracy: 0.1429 - val_loss: 2.3207 - val_accuracy: 0.0794 - 256ms/epoch - 51ms/step\n",
      "Epoch 52/130\n",
      "5/5 - 0s - loss: 2.3081 - accuracy: 0.1156 - val_loss: 2.3171 - val_accuracy: 0.0476 - 324ms/epoch - 65ms/step\n",
      "Epoch 53/130\n",
      "5/5 - 0s - loss: 2.3020 - accuracy: 0.1701 - val_loss: 2.3135 - val_accuracy: 0.0794 - 262ms/epoch - 52ms/step\n",
      "Epoch 54/130\n",
      "5/5 - 0s - loss: 2.3187 - accuracy: 0.0748 - val_loss: 2.3128 - val_accuracy: 0.0794 - 265ms/epoch - 53ms/step\n",
      "Epoch 55/130\n",
      "5/5 - 0s - loss: 2.2917 - accuracy: 0.1156 - val_loss: 2.3145 - val_accuracy: 0.0952 - 246ms/epoch - 49ms/step\n",
      "Epoch 56/130\n",
      "5/5 - 0s - loss: 2.2911 - accuracy: 0.1565 - val_loss: 2.3123 - val_accuracy: 0.0794 - 239ms/epoch - 48ms/step\n",
      "Epoch 57/130\n",
      "5/5 - 0s - loss: 2.2972 - accuracy: 0.1156 - val_loss: 2.3149 - val_accuracy: 0.0794 - 253ms/epoch - 51ms/step\n",
      "Epoch 58/130\n",
      "5/5 - 0s - loss: 2.3019 - accuracy: 0.1429 - val_loss: 2.3161 - val_accuracy: 0.0952 - 251ms/epoch - 50ms/step\n",
      "Epoch 59/130\n",
      "5/5 - 0s - loss: 2.3025 - accuracy: 0.1293 - val_loss: 2.3138 - val_accuracy: 0.0794 - 262ms/epoch - 52ms/step\n",
      "Epoch 60/130\n",
      "5/5 - 0s - loss: 2.2996 - accuracy: 0.1224 - val_loss: 2.3174 - val_accuracy: 0.0794 - 254ms/epoch - 51ms/step\n",
      "Epoch 61/130\n",
      "5/5 - 0s - loss: 2.3311 - accuracy: 0.1224 - val_loss: 2.3171 - val_accuracy: 0.0794 - 250ms/epoch - 50ms/step\n",
      "Epoch 62/130\n",
      "5/5 - 0s - loss: 2.2878 - accuracy: 0.1224 - val_loss: 2.3152 - val_accuracy: 0.0476 - 257ms/epoch - 51ms/step\n",
      "Epoch 63/130\n",
      "5/5 - 0s - loss: 2.3408 - accuracy: 0.1020 - val_loss: 2.3088 - val_accuracy: 0.0952 - 262ms/epoch - 52ms/step\n",
      "Epoch 64/130\n",
      "5/5 - 0s - loss: 2.2997 - accuracy: 0.1156 - val_loss: 2.3179 - val_accuracy: 0.0476 - 235ms/epoch - 47ms/step\n",
      "Epoch 65/130\n",
      "5/5 - 0s - loss: 2.2874 - accuracy: 0.1224 - val_loss: 2.3133 - val_accuracy: 0.0952 - 237ms/epoch - 47ms/step\n",
      "Epoch 66/130\n",
      "5/5 - 0s - loss: 2.2907 - accuracy: 0.1361 - val_loss: 2.3094 - val_accuracy: 0.1270 - 238ms/epoch - 48ms/step\n",
      "Epoch 67/130\n",
      "5/5 - 0s - loss: 2.2964 - accuracy: 0.1429 - val_loss: 2.3143 - val_accuracy: 0.0635 - 258ms/epoch - 52ms/step\n",
      "Epoch 68/130\n",
      "5/5 - 0s - loss: 2.3107 - accuracy: 0.1429 - val_loss: 2.3172 - val_accuracy: 0.0635 - 231ms/epoch - 46ms/step\n",
      "Epoch 69/130\n",
      "5/5 - 0s - loss: 2.2810 - accuracy: 0.1429 - val_loss: 2.3061 - val_accuracy: 0.1270 - 246ms/epoch - 49ms/step\n",
      "Epoch 70/130\n",
      "5/5 - 0s - loss: 2.3129 - accuracy: 0.1497 - val_loss: 2.3160 - val_accuracy: 0.0794 - 228ms/epoch - 46ms/step\n",
      "Epoch 71/130\n",
      "5/5 - 0s - loss: 2.3002 - accuracy: 0.1020 - val_loss: 2.3113 - val_accuracy: 0.1111 - 303ms/epoch - 61ms/step\n",
      "Epoch 72/130\n",
      "5/5 - 0s - loss: 2.3104 - accuracy: 0.1020 - val_loss: 2.3149 - val_accuracy: 0.0794 - 250ms/epoch - 50ms/step\n",
      "Epoch 73/130\n",
      "5/5 - 0s - loss: 2.2902 - accuracy: 0.1633 - val_loss: 2.3149 - val_accuracy: 0.0952 - 230ms/epoch - 46ms/step\n",
      "Epoch 74/130\n",
      "5/5 - 0s - loss: 2.2927 - accuracy: 0.1565 - val_loss: 2.3120 - val_accuracy: 0.0952 - 233ms/epoch - 47ms/step\n",
      "Epoch 75/130\n",
      "5/5 - 0s - loss: 2.2982 - accuracy: 0.1020 - val_loss: 2.3174 - val_accuracy: 0.0794 - 236ms/epoch - 47ms/step\n",
      "Epoch 76/130\n",
      "5/5 - 0s - loss: 2.3054 - accuracy: 0.1361 - val_loss: 2.3073 - val_accuracy: 0.0952 - 215ms/epoch - 43ms/step\n",
      "Epoch 77/130\n",
      "5/5 - 0s - loss: 2.2983 - accuracy: 0.1293 - val_loss: 2.3201 - val_accuracy: 0.0952 - 237ms/epoch - 47ms/step\n",
      "Epoch 78/130\n",
      "5/5 - 0s - loss: 2.3006 - accuracy: 0.1224 - val_loss: 2.3100 - val_accuracy: 0.0794 - 228ms/epoch - 46ms/step\n",
      "Epoch 79/130\n",
      "5/5 - 0s - loss: 2.2907 - accuracy: 0.0884 - val_loss: 2.3147 - val_accuracy: 0.1270 - 214ms/epoch - 43ms/step\n",
      "Epoch 80/130\n",
      "5/5 - 0s - loss: 2.3172 - accuracy: 0.1361 - val_loss: 2.3176 - val_accuracy: 0.0476 - 226ms/epoch - 45ms/step\n",
      "Epoch 81/130\n",
      "5/5 - 0s - loss: 2.3130 - accuracy: 0.1224 - val_loss: 2.3207 - val_accuracy: 0.0952 - 216ms/epoch - 43ms/step\n",
      "Epoch 82/130\n",
      "5/5 - 0s - loss: 2.2928 - accuracy: 0.1429 - val_loss: 2.3213 - val_accuracy: 0.0317 - 213ms/epoch - 43ms/step\n",
      "Epoch 83/130\n",
      "5/5 - 0s - loss: 2.2947 - accuracy: 0.1088 - val_loss: 2.3179 - val_accuracy: 0.0794 - 235ms/epoch - 47ms/step\n",
      "Epoch 84/130\n",
      "5/5 - 0s - loss: 2.2753 - accuracy: 0.1429 - val_loss: 2.3237 - val_accuracy: 0.0476 - 222ms/epoch - 44ms/step\n",
      "Epoch 85/130\n",
      "5/5 - 0s - loss: 2.3164 - accuracy: 0.0884 - val_loss: 2.3165 - val_accuracy: 0.0952 - 234ms/epoch - 47ms/step\n",
      "Epoch 86/130\n",
      "5/5 - 0s - loss: 2.3186 - accuracy: 0.1293 - val_loss: 2.3145 - val_accuracy: 0.1111 - 219ms/epoch - 44ms/step\n",
      "Epoch 87/130\n",
      "5/5 - 0s - loss: 2.2973 - accuracy: 0.0952 - val_loss: 2.3146 - val_accuracy: 0.0794 - 233ms/epoch - 47ms/step\n",
      "Epoch 88/130\n",
      "5/5 - 0s - loss: 2.3016 - accuracy: 0.1224 - val_loss: 2.3165 - val_accuracy: 0.0794 - 213ms/epoch - 43ms/step\n",
      "Epoch 89/130\n",
      "5/5 - 0s - loss: 2.3052 - accuracy: 0.1156 - val_loss: 2.3178 - val_accuracy: 0.0794 - 236ms/epoch - 47ms/step\n",
      "Epoch 90/130\n",
      "5/5 - 0s - loss: 2.2922 - accuracy: 0.1293 - val_loss: 2.3171 - val_accuracy: 0.0794 - 228ms/epoch - 46ms/step\n",
      "Epoch 91/130\n",
      "5/5 - 0s - loss: 2.2933 - accuracy: 0.1701 - val_loss: 2.3173 - val_accuracy: 0.0952 - 237ms/epoch - 47ms/step\n",
      "Epoch 92/130\n",
      "5/5 - 0s - loss: 2.3059 - accuracy: 0.1156 - val_loss: 2.3177 - val_accuracy: 0.0952 - 221ms/epoch - 44ms/step\n",
      "Epoch 93/130\n",
      "5/5 - 0s - loss: 2.2612 - accuracy: 0.1293 - val_loss: 2.3178 - val_accuracy: 0.0952 - 251ms/epoch - 50ms/step\n",
      "Epoch 94/130\n",
      "5/5 - 0s - loss: 2.3020 - accuracy: 0.1701 - val_loss: 2.3169 - val_accuracy: 0.1429 - 247ms/epoch - 49ms/step\n",
      "Epoch 95/130\n",
      "5/5 - 0s - loss: 2.2974 - accuracy: 0.1565 - val_loss: 2.3222 - val_accuracy: 0.1111 - 264ms/epoch - 53ms/step\n",
      "Epoch 96/130\n",
      "5/5 - 0s - loss: 2.3560 - accuracy: 0.1497 - val_loss: 2.3200 - val_accuracy: 0.0635 - 214ms/epoch - 43ms/step\n",
      "Epoch 97/130\n",
      "5/5 - 0s - loss: 2.2880 - accuracy: 0.1088 - val_loss: 2.3166 - val_accuracy: 0.0952 - 217ms/epoch - 43ms/step\n",
      "Epoch 98/130\n",
      "5/5 - 0s - loss: 2.3136 - accuracy: 0.1224 - val_loss: 2.3213 - val_accuracy: 0.0635 - 223ms/epoch - 45ms/step\n",
      "Epoch 99/130\n",
      "5/5 - 0s - loss: 2.3001 - accuracy: 0.1293 - val_loss: 2.3205 - val_accuracy: 0.0794 - 221ms/epoch - 44ms/step\n",
      "Epoch 100/130\n",
      "5/5 - 0s - loss: 2.3016 - accuracy: 0.1633 - val_loss: 2.3169 - val_accuracy: 0.0794 - 235ms/epoch - 47ms/step\n",
      "Epoch 101/130\n",
      "5/5 - 0s - loss: 2.3010 - accuracy: 0.1361 - val_loss: 2.3207 - val_accuracy: 0.0794 - 236ms/epoch - 47ms/step\n",
      "Epoch 102/130\n",
      "5/5 - 0s - loss: 2.3017 - accuracy: 0.1224 - val_loss: 2.3196 - val_accuracy: 0.0794 - 249ms/epoch - 50ms/step\n",
      "Epoch 103/130\n",
      "5/5 - 0s - loss: 2.2990 - accuracy: 0.1497 - val_loss: 2.3188 - val_accuracy: 0.0794 - 266ms/epoch - 53ms/step\n",
      "Epoch 104/130\n",
      "5/5 - 0s - loss: 2.2999 - accuracy: 0.1361 - val_loss: 2.3194 - val_accuracy: 0.0794 - 252ms/epoch - 50ms/step\n",
      "Epoch 105/130\n",
      "5/5 - 0s - loss: 2.3017 - accuracy: 0.1293 - val_loss: 2.3185 - val_accuracy: 0.0794 - 256ms/epoch - 51ms/step\n",
      "Epoch 106/130\n",
      "5/5 - 0s - loss: 2.2790 - accuracy: 0.1361 - val_loss: 2.3187 - val_accuracy: 0.0794 - 217ms/epoch - 43ms/step\n",
      "Epoch 107/130\n",
      "5/5 - 0s - loss: 2.2895 - accuracy: 0.1633 - val_loss: 2.3140 - val_accuracy: 0.0952 - 224ms/epoch - 45ms/step\n",
      "Epoch 108/130\n",
      "5/5 - 0s - loss: 2.2950 - accuracy: 0.1565 - val_loss: 2.3215 - val_accuracy: 0.0794 - 226ms/epoch - 45ms/step\n",
      "Epoch 109/130\n",
      "5/5 - 0s - loss: 2.2813 - accuracy: 0.1565 - val_loss: 2.3192 - val_accuracy: 0.1111 - 235ms/epoch - 47ms/step\n",
      "Epoch 110/130\n",
      "5/5 - 0s - loss: 2.2981 - accuracy: 0.1293 - val_loss: 2.3182 - val_accuracy: 0.0635 - 238ms/epoch - 48ms/step\n",
      "Epoch 111/130\n",
      "5/5 - 0s - loss: 2.2903 - accuracy: 0.0952 - val_loss: 2.3170 - val_accuracy: 0.0794 - 232ms/epoch - 46ms/step\n",
      "Epoch 112/130\n",
      "5/5 - 0s - loss: 2.2974 - accuracy: 0.1293 - val_loss: 2.3216 - val_accuracy: 0.0794 - 222ms/epoch - 44ms/step\n",
      "Epoch 113/130\n",
      "5/5 - 0s - loss: 2.3317 - accuracy: 0.1293 - val_loss: 2.3266 - val_accuracy: 0.0952 - 214ms/epoch - 43ms/step\n",
      "Epoch 114/130\n",
      "5/5 - 0s - loss: 2.3088 - accuracy: 0.1088 - val_loss: 2.3229 - val_accuracy: 0.0794 - 228ms/epoch - 46ms/step\n",
      "Epoch 115/130\n",
      "5/5 - 0s - loss: 2.2894 - accuracy: 0.1293 - val_loss: 2.3226 - val_accuracy: 0.0794 - 220ms/epoch - 44ms/step\n",
      "Epoch 116/130\n",
      "5/5 - 0s - loss: 2.2903 - accuracy: 0.1633 - val_loss: 2.3244 - val_accuracy: 0.0794 - 229ms/epoch - 46ms/step\n",
      "Epoch 117/130\n",
      "5/5 - 0s - loss: 2.2982 - accuracy: 0.1293 - val_loss: 2.3221 - val_accuracy: 0.0794 - 236ms/epoch - 47ms/step\n",
      "Epoch 118/130\n",
      "5/5 - 0s - loss: 2.2967 - accuracy: 0.1293 - val_loss: 2.3220 - val_accuracy: 0.0794 - 226ms/epoch - 45ms/step\n",
      "Epoch 119/130\n",
      "5/5 - 0s - loss: 2.2847 - accuracy: 0.1497 - val_loss: 2.3220 - val_accuracy: 0.0952 - 222ms/epoch - 44ms/step\n",
      "Epoch 120/130\n",
      "5/5 - 0s - loss: 2.2911 - accuracy: 0.1905 - val_loss: 2.3188 - val_accuracy: 0.0794 - 221ms/epoch - 44ms/step\n",
      "Epoch 121/130\n",
      "5/5 - 0s - loss: 2.2981 - accuracy: 0.1429 - val_loss: 2.3204 - val_accuracy: 0.0635 - 215ms/epoch - 43ms/step\n",
      "Epoch 122/130\n",
      "5/5 - 0s - loss: 2.2979 - accuracy: 0.1088 - val_loss: 2.3182 - val_accuracy: 0.0794 - 223ms/epoch - 45ms/step\n",
      "Epoch 123/130\n",
      "5/5 - 0s - loss: 2.3081 - accuracy: 0.1293 - val_loss: 2.3195 - val_accuracy: 0.0794 - 216ms/epoch - 43ms/step\n",
      "Epoch 124/130\n",
      "5/5 - 0s - loss: 2.2877 - accuracy: 0.1633 - val_loss: 2.3261 - val_accuracy: 0.0794 - 218ms/epoch - 44ms/step\n",
      "Epoch 125/130\n",
      "5/5 - 0s - loss: 2.3001 - accuracy: 0.1156 - val_loss: 2.3234 - val_accuracy: 0.0794 - 218ms/epoch - 44ms/step\n",
      "Epoch 126/130\n",
      "5/5 - 0s - loss: 2.2914 - accuracy: 0.1224 - val_loss: 2.3231 - val_accuracy: 0.0794 - 227ms/epoch - 45ms/step\n",
      "Epoch 127/130\n",
      "5/5 - 0s - loss: 2.2912 - accuracy: 0.1497 - val_loss: 2.3261 - val_accuracy: 0.0952 - 222ms/epoch - 44ms/step\n",
      "Epoch 128/130\n",
      "5/5 - 0s - loss: 2.2754 - accuracy: 0.1837 - val_loss: 2.3281 - val_accuracy: 0.0794 - 228ms/epoch - 46ms/step\n",
      "Epoch 129/130\n",
      "5/5 - 0s - loss: 2.3016 - accuracy: 0.1565 - val_loss: 2.3272 - val_accuracy: 0.0952 - 223ms/epoch - 45ms/step\n",
      "Epoch 130/130\n",
      "5/5 - 0s - loss: 2.3024 - accuracy: 0.1293 - val_loss: 2.3221 - val_accuracy: 0.0952 - 219ms/epoch - 44ms/step\n"
     ]
    }
   ],
   "source": [
    "complex_ANN_model.compile(loss='categorical_crossentropy', optimizer='adam', metrics=['accuracy'])\n",
    "history = complex_ANN_model.fit(\n",
    "    data_gen.flow(ANN_AUG_X_train, ANN_AUG_Y_train ),\n",
    "    epochs=130,\n",
    "    verbose=2,\n",
    "    validation_data=data_gen.flow(ANN_AUG_X_val, ANN_AUG_Y_val),\n",
    ")"
   ]
  },
  {
   "cell_type": "markdown",
   "metadata": {},
   "source": [
    "# section 4.5 : visulaize the history of loss and accurcy of train and validation set.\n",
    "in this section we use the matplotlib libary to plot the loss and accuracy of both train and model set."
   ]
  },
  {
   "cell_type": "code",
   "execution_count": 113,
   "metadata": {},
   "outputs": [
    {
     "data": {
      "image/png": "[encoded data removed]",
      "text/plain": [
       "<Figure size 720x288 with 2 Axes>"
      ]
     },
     "metadata": {
      "needs_background": "light"
     },
     "output_type": "display_data"
    }
   ],
   "source": [
    "\n",
    "plt.figure(figsize=(10, 4))\n",
    "\n",
    "plt.subplot(1, 2, 1)  \n",
    "plt.plot(history.history['loss'])\n",
    "plt.plot(history.history['val_loss'])\n",
    "plt.title('Model Loss')\n",
    "plt.ylabel('Loss')\n",
    "plt.xlabel('Epoch')\n",
    "plt.legend(['Train', 'Validation'], loc='upper left')\n",
    "\n",
    "plt.subplot(1, 2, 2)  \n",
    "plt.plot(history.history['accuracy'])\n",
    "plt.plot(history.history['val_accuracy'])\n",
    "plt.title('Model Accuracy')\n",
    "plt.ylabel('Accuracy')\n",
    "plt.xlabel('Epoch')\n",
    "plt.legend(['Train', 'Validation'], loc='upper left')\n",
    "\n",
    "plt.tight_layout() \n",
    "plt.show()"
   ]
  },
  {
   "cell_type": "markdown",
   "metadata": {},
   "source": [
    "# section 4.6 : Test.\n",
    "as we can see the loss and accuracy of the validation set is very low which is good and now we can verify that the model is good by putting it to test. "
   ]
  },
  {
   "cell_type": "code",
   "execution_count": 114,
   "metadata": {},
   "outputs": [
    {
     "name": "stdout",
     "output_type": "stream",
     "text": [
      "1/1 [==============================] - 0s 26ms/step\n"
     ]
    },
    {
     "name": "stdout",
     "output_type": "stream",
     "text": [
      "0\n",
      "1/1 [==============================] - 0s 16ms/step\n",
      "0\n",
      "1/1 [==============================] - 0s 19ms/step\n",
      "1\n",
      "1/1 [==============================] - 0s 17ms/step\n",
      "1\n",
      "1/1 [==============================] - 0s 17ms/step\n",
      "2\n",
      "1/1 [==============================] - 0s 35ms/step\n",
      "2\n",
      "1/1 [==============================] - 0s 16ms/step\n",
      "3\n",
      "1/1 [==============================] - 0s 19ms/step\n",
      "2\n",
      "1/1 [==============================] - 0s 15ms/step\n",
      "4\n",
      "1/1 [==============================] - 0s 16ms/step\n",
      "3\n",
      "1/1 [==============================] - 0s 16ms/step\n",
      "0\n",
      "1/1 [==============================] - 0s 17ms/step\n",
      "5\n",
      "1/1 [==============================] - 0s 15ms/step\n",
      "6\n",
      "1/1 [==============================] - 0s 16ms/step\n",
      "9\n",
      "1/1 [==============================] - 0s 18ms/step\n",
      "7\n",
      "1/1 [==============================] - 0s 17ms/step\n",
      "7\n",
      "1/1 [==============================] - 0s 16ms/step\n",
      "8\n",
      "1/1 [==============================] - 0s 16ms/step\n",
      "8\n",
      "1/1 [==============================] - 0s 16ms/step\n",
      "9\n",
      "1/1 [==============================] - 0s 17ms/step\n",
      "9\n",
      "accuracy :  16 / 20\n",
      "1/1 [==============================] - 0s 15ms/step\n",
      "0\n"
     ]
    },
    {
     "data": {
      "image/png": "[encoded data removed]",
      "text/plain": [
       "<Figure size 432x288 with 1 Axes>"
      ]
     },
     "metadata": {
      "needs_background": "light"
     },
     "output_type": "display_data"
    }
   ],
   "source": [
    "\n",
    "correct = 0\n",
    "for i,test_sample in enumerate (ANN_AUG_X_test):\n",
    "    predictions = ANN_model.predict(np.expand_dims(test_sample, axis=0))\n",
    "    Y_test = Y_test.reshape(1,20)\n",
    "    print(np.argmax(predictions[0]))\n",
    "    if np.argmax(predictions[0]) == Y_test[0][i]:\n",
    "        correct +=1       \n",
    "print(f\"accuracy :  {correct} / 20\")\n",
    "       \n",
    "test_sample = ANN_AUG_X_test[1]\n",
    "\n",
    "image = np.array(test_sample).reshape(28, 28)\n",
    "\n",
    "\n",
    "plt.imshow(image , cmap=\"gray\")\n",
    "plt.axis('off')\n",
    "\n",
    "\n",
    "predictions = ANN_model.predict(np.expand_dims(test_sample, axis=0))\n",
    "\n",
    "print(np.argmax(predictions[0])) "
   ]
  },
  {
   "cell_type": "markdown",
   "metadata": {},
   "source": [
    "# section 5 : CNN with data augmentation."
   ]
  },
  {
   "cell_type": "markdown",
   "metadata": {},
   "source": [
    "## section 5.1 : prepare CNN augmentation dataset.\n",
    "first we prepared data to to that we spilit the train set to a train set and a validation set. then we normalize and reshape the data"
   ]
  },
  {
   "cell_type": "code",
   "execution_count": 115,
   "metadata": {},
   "outputs": [],
   "source": [
    "CNN_AUG_X_train = X_train.copy()\n",
    "CNN_AUG_Y_train = Y_train.copy()\n",
    "CNN_AUG_X_test = X_test.copy()\n",
    "CNN_AUG_Y_test = Y_test.copy()\n",
    "\n",
    "\n",
    "CNN_AUG_X_train, CNN_AUG_X_val, CNN_AUG_Y_train, CNN_AUG_Y_val = train_test_split(CNN_AUG_X_train, CNN_AUG_Y_train, test_size=0.3, random_state=42)\n",
    "\n",
    "CNN_AUG_X_train = CNN_AUG_X_train.astype('float32') / 255\n",
    "CNN_AUG_X_val = CNN_AUG_X_val.astype('float32') / 255\n",
    "CNN_AUG_X_train = CNN_AUG_X_train.reshape((-1, 28, 28, 1))  \n",
    "CNN_AUG_X_val = CNN_AUG_X_val.reshape((-1, 28, 28, 1))   \n",
    "CNN_AUG_X_test = CNN_AUG_X_test.astype('float32') / 255\n",
    "CNN_AUG_X_test = CNN_AUG_X_test.reshape((-1, 28, 28, 1))  "
   ]
  },
  {
   "cell_type": "markdown",
   "metadata": {},
   "source": [
    "## section 5.2 : image generation for augmentation."
   ]
  },
  {
   "cell_type": "code",
   "execution_count": 116,
   "metadata": {},
   "outputs": [],
   "source": [
    "data_gen = ImageDataGenerator(\n",
    "    rotation_range=20,\n",
    "    width_shift_range=0.2,\n",
    "    height_shift_range=0.2,\n",
    "    shear_range=0.2,\n",
    "    zoom_range=0.1,\n",
    "    # horizontal_flip=True,\n",
    "    # fill_mode='nearest'\n",
    ")"
   ]
  },
  {
   "cell_type": "markdown",
   "metadata": {},
   "source": [
    "## section 5.3 : compile and fit the model.\n",
    "here we use adam optimizer and categorical_crossentropy for loss function to compile the model we use 130 epochs to minimize the loss for validation function."
   ]
  },
  {
   "cell_type": "code",
   "execution_count": 117,
   "metadata": {},
   "outputs": [
    {
     "name": "stdout",
     "output_type": "stream",
     "text": [
      "Epoch 1/100\n"
     ]
    },
    {
     "name": "stdout",
     "output_type": "stream",
     "text": [
      "4/4 - 1s - loss: 2.5735 - accuracy: 0.3741 - val_loss: 2.1409 - val_accuracy: 0.3651 - 1s/epoch - 303ms/step\n",
      "Epoch 2/100\n",
      "4/4 - 0s - loss: 2.0714 - accuracy: 0.4694 - val_loss: 2.1699 - val_accuracy: 0.3810 - 494ms/epoch - 108ms/step\n",
      "Epoch 3/100\n",
      "4/4 - 1s - loss: 1.9700 - accuracy: 0.5306 - val_loss: 2.0873 - val_accuracy: 0.4286 - 524ms/epoch - 114ms/step\n",
      "Epoch 4/100\n",
      "4/4 - 0s - loss: 1.8188 - accuracy: 0.5170 - val_loss: 1.8373 - val_accuracy: 0.5079 - 457ms/epoch - 99ms/step\n",
      "Epoch 5/100\n",
      "4/4 - 0s - loss: 1.6604 - accuracy: 0.5578 - val_loss: 2.1104 - val_accuracy: 0.4127 - 427ms/epoch - 93ms/step\n",
      "Epoch 6/100\n",
      "4/4 - 0s - loss: 1.6219 - accuracy: 0.6327 - val_loss: 1.4759 - val_accuracy: 0.6508 - 410ms/epoch - 89ms/step\n",
      "Epoch 7/100\n",
      "4/4 - 0s - loss: 1.4831 - accuracy: 0.6190 - val_loss: 1.5451 - val_accuracy: 0.5714 - 432ms/epoch - 94ms/step\n",
      "Epoch 8/100\n",
      "4/4 - 0s - loss: 1.3138 - accuracy: 0.7075 - val_loss: 1.6309 - val_accuracy: 0.5873 - 442ms/epoch - 96ms/step\n",
      "Epoch 9/100\n",
      "4/4 - 0s - loss: 1.3321 - accuracy: 0.6531 - val_loss: 1.6620 - val_accuracy: 0.6190 - 446ms/epoch - 97ms/step\n",
      "Epoch 10/100\n",
      "4/4 - 0s - loss: 1.2900 - accuracy: 0.6939 - val_loss: 1.2381 - val_accuracy: 0.7143 - 384ms/epoch - 84ms/step\n",
      "Epoch 11/100\n",
      "4/4 - 0s - loss: 1.2711 - accuracy: 0.6871 - val_loss: 1.4908 - val_accuracy: 0.6667 - 398ms/epoch - 87ms/step\n",
      "Epoch 12/100\n",
      "4/4 - 0s - loss: 1.0789 - accuracy: 0.7823 - val_loss: 1.4195 - val_accuracy: 0.6190 - 402ms/epoch - 88ms/step\n",
      "Epoch 13/100\n",
      "4/4 - 0s - loss: 1.2514 - accuracy: 0.7143 - val_loss: 1.3010 - val_accuracy: 0.6984 - 492ms/epoch - 107ms/step\n",
      "Epoch 14/100\n",
      "4/4 - 0s - loss: 1.1579 - accuracy: 0.7347 - val_loss: 1.3390 - val_accuracy: 0.6349 - 453ms/epoch - 99ms/step\n",
      "Epoch 15/100\n",
      "4/4 - 0s - loss: 1.1643 - accuracy: 0.7347 - val_loss: 1.3424 - val_accuracy: 0.7143 - 415ms/epoch - 90ms/step\n",
      "Epoch 16/100\n",
      "4/4 - 0s - loss: 1.3012 - accuracy: 0.7211 - val_loss: 1.3439 - val_accuracy: 0.6190 - 432ms/epoch - 94ms/step\n",
      "Epoch 17/100\n",
      "4/4 - 0s - loss: 1.2359 - accuracy: 0.7075 - val_loss: 1.6411 - val_accuracy: 0.5714 - 422ms/epoch - 92ms/step\n",
      "Epoch 18/100\n",
      "4/4 - 0s - loss: 1.1613 - accuracy: 0.7687 - val_loss: 1.3338 - val_accuracy: 0.7143 - 452ms/epoch - 98ms/step\n",
      "Epoch 19/100\n",
      "4/4 - 0s - loss: 1.0713 - accuracy: 0.7619 - val_loss: 1.5706 - val_accuracy: 0.6032 - 406ms/epoch - 88ms/step\n",
      "Epoch 20/100\n",
      "4/4 - 0s - loss: 1.0886 - accuracy: 0.7279 - val_loss: 1.3400 - val_accuracy: 0.6984 - 407ms/epoch - 89ms/step\n",
      "Epoch 21/100\n",
      "4/4 - 0s - loss: 1.0084 - accuracy: 0.7755 - val_loss: 1.4529 - val_accuracy: 0.6825 - 425ms/epoch - 93ms/step\n",
      "Epoch 22/100\n",
      "4/4 - 0s - loss: 0.9629 - accuracy: 0.8299 - val_loss: 1.0724 - val_accuracy: 0.7302 - 370ms/epoch - 81ms/step\n",
      "Epoch 23/100\n",
      "4/4 - 0s - loss: 1.1642 - accuracy: 0.7687 - val_loss: 1.1692 - val_accuracy: 0.6667 - 359ms/epoch - 78ms/step\n",
      "Epoch 24/100\n",
      "4/4 - 0s - loss: 1.0396 - accuracy: 0.7687 - val_loss: 1.2530 - val_accuracy: 0.7302 - 353ms/epoch - 77ms/step\n",
      "Epoch 25/100\n",
      "4/4 - 0s - loss: 1.0194 - accuracy: 0.7823 - val_loss: 1.3065 - val_accuracy: 0.6667 - 362ms/epoch - 79ms/step\n",
      "Epoch 26/100\n",
      "4/4 - 0s - loss: 1.0421 - accuracy: 0.8027 - val_loss: 1.1844 - val_accuracy: 0.7143 - 357ms/epoch - 78ms/step\n",
      "Epoch 27/100\n",
      "4/4 - 0s - loss: 0.9800 - accuracy: 0.8027 - val_loss: 1.3558 - val_accuracy: 0.6984 - 352ms/epoch - 77ms/step\n",
      "Epoch 28/100\n",
      "4/4 - 0s - loss: 0.9619 - accuracy: 0.8299 - val_loss: 1.2163 - val_accuracy: 0.7302 - 359ms/epoch - 78ms/step\n",
      "Epoch 29/100\n",
      "4/4 - 0s - loss: 1.0668 - accuracy: 0.7755 - val_loss: 1.2040 - val_accuracy: 0.6667 - 366ms/epoch - 80ms/step\n",
      "Epoch 30/100\n",
      "4/4 - 0s - loss: 1.0139 - accuracy: 0.7823 - val_loss: 1.1832 - val_accuracy: 0.7619 - 364ms/epoch - 79ms/step\n",
      "Epoch 31/100\n",
      "4/4 - 0s - loss: 1.0043 - accuracy: 0.8231 - val_loss: 1.3956 - val_accuracy: 0.6984 - 354ms/epoch - 77ms/step\n",
      "Epoch 32/100\n",
      "4/4 - 0s - loss: 1.0382 - accuracy: 0.7551 - val_loss: 1.1899 - val_accuracy: 0.7302 - 345ms/epoch - 75ms/step\n",
      "Epoch 33/100\n",
      "4/4 - 0s - loss: 1.1199 - accuracy: 0.7687 - val_loss: 1.2472 - val_accuracy: 0.7778 - 404ms/epoch - 88ms/step\n",
      "Epoch 34/100\n",
      "4/4 - 1s - loss: 0.9717 - accuracy: 0.8367 - val_loss: 1.0876 - val_accuracy: 0.7778 - 545ms/epoch - 119ms/step\n",
      "Epoch 35/100\n",
      "4/4 - 0s - loss: 0.9464 - accuracy: 0.8163 - val_loss: 1.2112 - val_accuracy: 0.7460 - 364ms/epoch - 79ms/step\n",
      "Epoch 36/100\n",
      "4/4 - 0s - loss: 0.9170 - accuracy: 0.8163 - val_loss: 0.9926 - val_accuracy: 0.7937 - 372ms/epoch - 81ms/step\n",
      "Epoch 37/100\n",
      "4/4 - 0s - loss: 0.9774 - accuracy: 0.8435 - val_loss: 1.5093 - val_accuracy: 0.7619 - 446ms/epoch - 97ms/step\n",
      "Epoch 38/100\n",
      "4/4 - 0s - loss: 0.9363 - accuracy: 0.8299 - val_loss: 1.2878 - val_accuracy: 0.6825 - 408ms/epoch - 89ms/step\n",
      "Epoch 39/100\n",
      "4/4 - 0s - loss: 0.9313 - accuracy: 0.8027 - val_loss: 1.1889 - val_accuracy: 0.7778 - 413ms/epoch - 90ms/step\n",
      "Epoch 40/100\n",
      "4/4 - 0s - loss: 0.9328 - accuracy: 0.8299 - val_loss: 1.1092 - val_accuracy: 0.7619 - 400ms/epoch - 87ms/step\n",
      "Epoch 41/100\n",
      "4/4 - 0s - loss: 0.8792 - accuracy: 0.8163 - val_loss: 1.0491 - val_accuracy: 0.8095 - 408ms/epoch - 89ms/step\n",
      "Epoch 42/100\n",
      "4/4 - 0s - loss: 0.7871 - accuracy: 0.8776 - val_loss: 1.1220 - val_accuracy: 0.8095 - 432ms/epoch - 94ms/step\n",
      "Epoch 43/100\n",
      "4/4 - 0s - loss: 0.7839 - accuracy: 0.8844 - val_loss: 1.3266 - val_accuracy: 0.7619 - 454ms/epoch - 99ms/step\n",
      "Epoch 44/100\n",
      "4/4 - 0s - loss: 0.9077 - accuracy: 0.8095 - val_loss: 0.9892 - val_accuracy: 0.7460 - 394ms/epoch - 86ms/step\n",
      "Epoch 45/100\n",
      "4/4 - 0s - loss: 0.9453 - accuracy: 0.8231 - val_loss: 1.0908 - val_accuracy: 0.8095 - 413ms/epoch - 90ms/step\n",
      "Epoch 46/100\n",
      "4/4 - 0s - loss: 0.7749 - accuracy: 0.8912 - val_loss: 1.1835 - val_accuracy: 0.7778 - 418ms/epoch - 91ms/step\n",
      "Epoch 47/100\n",
      "4/4 - 0s - loss: 0.9208 - accuracy: 0.8231 - val_loss: 1.4147 - val_accuracy: 0.7302 - 400ms/epoch - 87ms/step\n",
      "Epoch 48/100\n",
      "4/4 - 0s - loss: 0.8150 - accuracy: 0.8844 - val_loss: 1.2329 - val_accuracy: 0.7302 - 417ms/epoch - 91ms/step\n",
      "Epoch 49/100\n",
      "4/4 - 0s - loss: 0.8652 - accuracy: 0.8435 - val_loss: 1.0930 - val_accuracy: 0.8254 - 433ms/epoch - 94ms/step\n",
      "Epoch 50/100\n",
      "4/4 - 0s - loss: 0.7532 - accuracy: 0.8707 - val_loss: 1.2878 - val_accuracy: 0.7143 - 420ms/epoch - 91ms/step\n",
      "Epoch 51/100\n",
      "4/4 - 0s - loss: 0.9375 - accuracy: 0.7891 - val_loss: 1.1803 - val_accuracy: 0.7619 - 427ms/epoch - 93ms/step\n",
      "Epoch 52/100\n",
      "4/4 - 0s - loss: 0.8961 - accuracy: 0.8503 - val_loss: 1.3236 - val_accuracy: 0.7778 - 429ms/epoch - 93ms/step\n",
      "Epoch 53/100\n",
      "4/4 - 0s - loss: 0.9403 - accuracy: 0.8027 - val_loss: 1.2520 - val_accuracy: 0.6825 - 407ms/epoch - 89ms/step\n",
      "Epoch 54/100\n",
      "4/4 - 0s - loss: 0.9145 - accuracy: 0.8163 - val_loss: 1.5498 - val_accuracy: 0.6508 - 440ms/epoch - 96ms/step\n",
      "Epoch 55/100\n",
      "4/4 - 0s - loss: 0.8277 - accuracy: 0.8912 - val_loss: 1.0505 - val_accuracy: 0.7778 - 383ms/epoch - 83ms/step\n",
      "Epoch 56/100\n",
      "4/4 - 0s - loss: 0.8989 - accuracy: 0.8503 - val_loss: 1.3016 - val_accuracy: 0.6984 - 411ms/epoch - 89ms/step\n",
      "Epoch 57/100\n",
      "4/4 - 0s - loss: 0.8868 - accuracy: 0.8503 - val_loss: 1.1294 - val_accuracy: 0.7460 - 413ms/epoch - 90ms/step\n",
      "Epoch 58/100\n",
      "4/4 - 0s - loss: 0.8851 - accuracy: 0.8844 - val_loss: 1.3049 - val_accuracy: 0.6825 - 413ms/epoch - 90ms/step\n",
      "Epoch 59/100\n",
      "4/4 - 0s - loss: 1.0472 - accuracy: 0.8027 - val_loss: 1.1516 - val_accuracy: 0.6984 - 432ms/epoch - 94ms/step\n",
      "Epoch 60/100\n",
      "4/4 - 0s - loss: 0.8447 - accuracy: 0.8639 - val_loss: 1.0433 - val_accuracy: 0.8413 - 385ms/epoch - 84ms/step\n",
      "Epoch 61/100\n",
      "4/4 - 0s - loss: 0.9310 - accuracy: 0.8299 - val_loss: 1.2471 - val_accuracy: 0.7302 - 394ms/epoch - 86ms/step\n",
      "Epoch 62/100\n",
      "4/4 - 0s - loss: 0.8481 - accuracy: 0.8503 - val_loss: 1.3389 - val_accuracy: 0.6984 - 420ms/epoch - 91ms/step\n",
      "Epoch 63/100\n",
      "4/4 - 0s - loss: 0.9475 - accuracy: 0.8231 - val_loss: 1.5929 - val_accuracy: 0.5873 - 407ms/epoch - 89ms/step\n",
      "Epoch 64/100\n",
      "4/4 - 0s - loss: 0.9929 - accuracy: 0.8299 - val_loss: 1.0447 - val_accuracy: 0.7937 - 437ms/epoch - 95ms/step\n",
      "Epoch 65/100\n",
      "4/4 - 0s - loss: 1.0498 - accuracy: 0.8027 - val_loss: 1.2840 - val_accuracy: 0.6508 - 405ms/epoch - 88ms/step\n",
      "Epoch 66/100\n",
      "4/4 - 0s - loss: 0.9525 - accuracy: 0.8231 - val_loss: 1.3191 - val_accuracy: 0.6825 - 467ms/epoch - 102ms/step\n",
      "Epoch 67/100\n",
      "4/4 - 0s - loss: 0.8501 - accuracy: 0.8639 - val_loss: 0.9690 - val_accuracy: 0.8571 - 476ms/epoch - 104ms/step\n",
      "Epoch 68/100\n",
      "4/4 - 0s - loss: 0.7603 - accuracy: 0.9116 - val_loss: 1.0911 - val_accuracy: 0.8095 - 430ms/epoch - 94ms/step\n",
      "Epoch 69/100\n",
      "4/4 - 0s - loss: 0.9472 - accuracy: 0.8435 - val_loss: 1.4316 - val_accuracy: 0.6825 - 379ms/epoch - 83ms/step\n",
      "Epoch 70/100\n",
      "4/4 - 0s - loss: 0.8213 - accuracy: 0.9048 - val_loss: 1.2452 - val_accuracy: 0.7460 - 386ms/epoch - 84ms/step\n",
      "Epoch 71/100\n",
      "4/4 - 0s - loss: 0.9286 - accuracy: 0.8435 - val_loss: 1.1232 - val_accuracy: 0.7143 - 393ms/epoch - 86ms/step\n",
      "Epoch 72/100\n",
      "4/4 - 0s - loss: 0.8320 - accuracy: 0.8707 - val_loss: 1.2524 - val_accuracy: 0.7937 - 383ms/epoch - 83ms/step\n",
      "Epoch 73/100\n",
      "4/4 - 0s - loss: 0.8299 - accuracy: 0.8639 - val_loss: 1.0613 - val_accuracy: 0.8254 - 393ms/epoch - 86ms/step\n",
      "Epoch 74/100\n",
      "4/4 - 0s - loss: 0.8428 - accuracy: 0.8435 - val_loss: 1.0291 - val_accuracy: 0.7937 - 401ms/epoch - 87ms/step\n",
      "Epoch 75/100\n",
      "4/4 - 0s - loss: 0.8777 - accuracy: 0.8707 - val_loss: 1.2498 - val_accuracy: 0.7778 - 425ms/epoch - 93ms/step\n",
      "Epoch 76/100\n",
      "4/4 - 0s - loss: 0.8534 - accuracy: 0.8503 - val_loss: 1.2675 - val_accuracy: 0.7619 - 408ms/epoch - 89ms/step\n",
      "Epoch 77/100\n",
      "4/4 - 0s - loss: 0.9290 - accuracy: 0.8095 - val_loss: 1.1496 - val_accuracy: 0.7460 - 383ms/epoch - 83ms/step\n",
      "Epoch 78/100\n",
      "4/4 - 0s - loss: 0.8600 - accuracy: 0.8571 - val_loss: 1.1208 - val_accuracy: 0.7937 - 402ms/epoch - 88ms/step\n",
      "Epoch 79/100\n",
      "4/4 - 0s - loss: 0.9628 - accuracy: 0.7959 - val_loss: 0.9962 - val_accuracy: 0.7778 - 414ms/epoch - 90ms/step\n",
      "Epoch 80/100\n",
      "4/4 - 0s - loss: 0.8613 - accuracy: 0.8639 - val_loss: 1.1246 - val_accuracy: 0.7619 - 413ms/epoch - 90ms/step\n",
      "Epoch 81/100\n",
      "4/4 - 0s - loss: 0.8103 - accuracy: 0.8980 - val_loss: 1.1222 - val_accuracy: 0.7460 - 437ms/epoch - 95ms/step\n",
      "Epoch 82/100\n",
      "4/4 - 0s - loss: 0.6894 - accuracy: 0.9184 - val_loss: 1.0832 - val_accuracy: 0.7778 - 416ms/epoch - 91ms/step\n",
      "Epoch 83/100\n",
      "4/4 - 0s - loss: 0.8593 - accuracy: 0.8299 - val_loss: 0.9750 - val_accuracy: 0.8413 - 444ms/epoch - 97ms/step\n",
      "Epoch 84/100\n",
      "4/4 - 0s - loss: 0.8227 - accuracy: 0.8707 - val_loss: 1.2587 - val_accuracy: 0.7619 - 416ms/epoch - 91ms/step\n",
      "Epoch 85/100\n",
      "4/4 - 0s - loss: 0.7817 - accuracy: 0.8776 - val_loss: 0.9580 - val_accuracy: 0.7778 - 418ms/epoch - 91ms/step\n",
      "Epoch 86/100\n",
      "4/4 - 0s - loss: 1.0029 - accuracy: 0.7823 - val_loss: 1.3367 - val_accuracy: 0.6825 - 397ms/epoch - 86ms/step\n",
      "Epoch 87/100\n",
      "4/4 - 0s - loss: 0.8667 - accuracy: 0.8095 - val_loss: 0.9963 - val_accuracy: 0.7619 - 452ms/epoch - 98ms/step\n",
      "Epoch 88/100\n",
      "4/4 - 0s - loss: 0.8863 - accuracy: 0.8571 - val_loss: 1.0760 - val_accuracy: 0.7778 - 429ms/epoch - 93ms/step\n",
      "Epoch 89/100\n",
      "4/4 - 0s - loss: 0.8112 - accuracy: 0.8639 - val_loss: 1.0741 - val_accuracy: 0.7937 - 432ms/epoch - 94ms/step\n",
      "Epoch 90/100\n",
      "4/4 - 0s - loss: 0.9055 - accuracy: 0.8367 - val_loss: 1.2862 - val_accuracy: 0.7460 - 457ms/epoch - 99ms/step\n",
      "Epoch 91/100\n",
      "4/4 - 0s - loss: 0.7774 - accuracy: 0.8844 - val_loss: 1.0622 - val_accuracy: 0.8095 - 390ms/epoch - 85ms/step\n",
      "Epoch 92/100\n",
      "4/4 - 0s - loss: 0.7497 - accuracy: 0.9116 - val_loss: 1.1254 - val_accuracy: 0.7619 - 406ms/epoch - 88ms/step\n",
      "Epoch 93/100\n",
      "4/4 - 0s - loss: 0.7302 - accuracy: 0.8980 - val_loss: 1.1744 - val_accuracy: 0.7143 - 410ms/epoch - 89ms/step\n",
      "Epoch 94/100\n",
      "4/4 - 0s - loss: 0.8354 - accuracy: 0.8980 - val_loss: 1.5213 - val_accuracy: 0.7302 - 436ms/epoch - 95ms/step\n",
      "Epoch 95/100\n",
      "4/4 - 0s - loss: 0.8604 - accuracy: 0.8435 - val_loss: 1.0219 - val_accuracy: 0.7778 - 406ms/epoch - 88ms/step\n",
      "Epoch 96/100\n",
      "4/4 - 0s - loss: 0.8055 - accuracy: 0.9116 - val_loss: 1.0581 - val_accuracy: 0.7778 - 406ms/epoch - 88ms/step\n",
      "Epoch 97/100\n",
      "4/4 - 0s - loss: 0.6751 - accuracy: 0.9252 - val_loss: 1.0302 - val_accuracy: 0.8095 - 408ms/epoch - 89ms/step\n",
      "Epoch 98/100\n",
      "4/4 - 0s - loss: 0.7880 - accuracy: 0.8571 - val_loss: 1.1094 - val_accuracy: 0.7778 - 399ms/epoch - 87ms/step\n",
      "Epoch 99/100\n",
      "4/4 - 0s - loss: 0.7471 - accuracy: 0.8980 - val_loss: 1.3057 - val_accuracy: 0.7619 - 394ms/epoch - 86ms/step\n",
      "Epoch 100/100\n",
      "4/4 - 0s - loss: 0.7810 - accuracy: 0.8707 - val_loss: 1.2410 - val_accuracy: 0.7778 - 397ms/epoch - 86ms/step\n"
     ]
    }
   ],
   "source": [
    "CNN_model.compile(loss='categorical_crossentropy', optimizer='adam', metrics=['accuracy'])\n",
    "history = CNN_model.fit(\n",
    "    data_gen.flow(CNN_AUG_X_train, CNN_AUG_Y_train , batch_size=32),\n",
    "    steps_per_epoch=len(CNN_AUG_X_train) / 32, \n",
    "    epochs=100,\n",
    "    verbose=2,\n",
    "    validation_data=data_gen.flow(CNN_AUG_X_val, CNN_AUG_Y_val, batch_size=32),\n",
    "    validation_steps=len(CNN_AUG_X_val) / 32\n",
    ")"
   ]
  },
  {
   "cell_type": "markdown",
   "metadata": {},
   "source": [
    "# section 5.4 : visulaize the history of loss and accurcy of train and validation set.\n",
    "in this section we use the matplotlib libary to plot the loss and accuracy of both train and model set."
   ]
  },
  {
   "cell_type": "code",
   "execution_count": 118,
   "metadata": {},
   "outputs": [
    {
     "data": {
      "image/png": "[encoded data removed]",
      "text/plain": [
       "<Figure size 720x288 with 2 Axes>"
      ]
     },
     "metadata": {
      "needs_background": "light"
     },
     "output_type": "display_data"
    }
   ],
   "source": [
    "\n",
    "plt.figure(figsize=(10, 4))\n",
    "\n",
    "plt.subplot(1, 2, 1)  \n",
    "plt.plot(history.history['loss'])\n",
    "plt.plot(history.history['val_loss'])\n",
    "plt.title('Model Loss')\n",
    "plt.ylabel('Loss')\n",
    "plt.xlabel('Epoch')\n",
    "plt.legend(['Train', 'Validation'], loc='upper left')\n",
    "\n",
    "plt.subplot(1, 2, 2)  \n",
    "plt.plot(history.history['accuracy'])\n",
    "plt.plot(history.history['val_accuracy'])\n",
    "plt.title('Model Accuracy')\n",
    "plt.ylabel('Accuracy')\n",
    "plt.xlabel('Epoch')\n",
    "plt.legend(['Train', 'Validation'], loc='upper left')\n",
    "\n",
    "plt.tight_layout() \n",
    "plt.show()"
   ]
  },
  {
   "cell_type": "markdown",
   "metadata": {},
   "source": [
    "# section 5.6 : Test.\n",
    "as we can see the loss and accuracy of the validation set is very low which is good and now we can verify that the model is good by putting it to test. "
   ]
  },
  {
   "cell_type": "code",
   "execution_count": 119,
   "metadata": {},
   "outputs": [
    {
     "name": "stdout",
     "output_type": "stream",
     "text": [
      "1/1 [==============================] - 0s 112ms/step\n",
      "0\n",
      "1/1 [==============================] - 0s 16ms/step\n",
      "0\n",
      "1/1 [==============================] - 0s 15ms/step\n",
      "1\n",
      "1/1 [==============================] - 0s 16ms/step\n",
      "1\n",
      "1/1 [==============================] - 0s 17ms/step\n",
      "2\n",
      "1/1 [==============================] - 0s 18ms/step\n",
      "2\n",
      "1/1 [==============================] - 0s 20ms/step\n",
      "3\n",
      "1/1 [==============================] - 0s 21ms/step\n",
      "3\n",
      "1/1 [==============================] - 0s 21ms/step\n",
      "4\n",
      "1/1 [==============================] - 0s 20ms/step\n",
      "4\n",
      "1/1 [==============================] - 0s 20ms/step\n",
      "5\n",
      "1/1 [==============================] - 0s 20ms/step\n",
      "5\n",
      "1/1 [==============================] - 0s 18ms/step\n",
      "6\n",
      "1/1 [==============================] - 0s 17ms/step\n",
      "6\n",
      "1/1 [==============================] - 0s 19ms/step\n",
      "7\n",
      "1/1 [==============================] - 0s 17ms/step\n",
      "7\n",
      "1/1 [==============================] - 0s 16ms/step\n",
      "5\n",
      "1/1 [==============================] - 0s 17ms/step\n",
      "8\n",
      "1/1 [==============================] - 0s 16ms/step\n",
      "9\n",
      "1/1 [==============================] - 0s 19ms/step\n",
      "9\n",
      "accuracy : 19 / 20\n",
      "1/1 [==============================] - 0s 19ms/step\n",
      "0\n"
     ]
    },
    {
     "data": {
      "image/png": "[encoded data removed]",
      "text/plain": [
       "<Figure size 432x288 with 1 Axes>"
      ]
     },
     "metadata": {
      "needs_background": "light"
     },
     "output_type": "display_data"
    }
   ],
   "source": [
    "\n",
    "correct = 0\n",
    "for i,test_sample in enumerate (CNN_AUG_X_test):\n",
    "    predictions = CNN_model.predict(np.expand_dims(test_sample, axis=0))\n",
    "    Y_test = Y_test.reshape(1,20)\n",
    "    print(np.argmax(predictions[0]))\n",
    "    if np.argmax(predictions[0]) == Y_test[0][i]:\n",
    "        correct +=1       \n",
    "print(f\"accuracy : {correct} / 20\")\n",
    "       \n",
    "test_sample = ANN_AUG_X_test[1]\n",
    "\n",
    "image = np.array(test_sample).reshape(28, 28)\n",
    "\n",
    "\n",
    "plt.imshow(image , cmap=\"gray\")\n",
    "plt.axis('off')\n",
    "\n",
    "\n",
    "predictions = CNN_model.predict(np.expand_dims(test_sample, axis=0))\n",
    "\n",
    "print(np.argmax(predictions[0])) "
   ]
  },
  {
   "cell_type": "markdown",
   "metadata": {},
   "source": [
    "# Section 7 : reading a number"
   ]
  },
  {
   "cell_type": "markdown",
   "metadata": {},
   "source": [
    "## Section 7.1 : function to get digits.\n",
    "we first use this function on a processed image. here we use contours to get the bright parts (digits) and sort them left to right then we find the contours that are larger than 80 pixels and padd them after that we resize it to 28 * 28 and use CNN model on it.\n",
    "the numbers are muliplied by 10 and add we calculate the sum."
   ]
  },
  {
   "cell_type": "code",
   "execution_count": 120,
   "metadata": {},
   "outputs": [],
   "source": [
    "def get_digits(image):\n",
    "    _, binary = cv2.threshold(image, 40, 255, cv2.THRESH_BINARY)\n",
    "\n",
    "    contours, _ = cv2.findContours(binary, cv2.RETR_EXTERNAL, cv2.CHAIN_APPROX_SIMPLE)\n",
    "    contours = sorted(contours, key=lambda ctr: cv2.boundingRect(ctr)[0])\n",
    "    number = 0 \n",
    "\n",
    "    for contour in contours:\n",
    "        if cv2.contourArea(contour) >= 80:\n",
    "            x, y, w, h = cv2.boundingRect(contour)\n",
    "\n",
    "            cropped = image[y:y+h, x:x+w]\n",
    "            \n",
    "            height, width = cropped.shape\n",
    "            cropped = cv2.copyMakeBorder(cropped, height//2, height//2, width, width, cv2.BORDER_CONSTANT)\n",
    "\n",
    "            cropped = cv2.resize(cropped, (28,28))\n",
    "            _,cropped = cv2.threshold(cropped, 40, 255, cv2.THRESH_BINARY)\n",
    "            flatten_image = cropped.flatten()\n",
    "            flatten_image = flatten_image.reshape(1, -1)\n",
    "            flatten_image = flatten_image.astype('float32') / 255\n",
    "            flatten_image = flatten_image.reshape((28, 28, 1)) \n",
    "            predictions = CNN_model.predict(np.expand_dims(flatten_image, axis=0))\n",
    "            correct_prediction = np.argmax(predictions[0])\n",
    "            number  *=10\n",
    "            number  += correct_prediction\n",
    "            print(number)\n",
    "    return number"
   ]
  },
  {
   "cell_type": "markdown",
   "metadata": {},
   "source": [
    "## Section 7.2 : test 1 : 12"
   ]
  },
  {
   "cell_type": "code",
   "execution_count": 121,
   "metadata": {},
   "outputs": [
    {
     "name": "stdout",
     "output_type": "stream",
     "text": [
      "1/1 [==============================] - 0s 22ms/step\n",
      "1\n",
      "1/1 [==============================] - 0s 21ms/step\n",
      "12\n",
      "12\n"
     ]
    },
    {
     "data": {
      "image/png": "[encoded data removed]",
      "text/plain": [
       "<Figure size 432x288 with 1 Axes>"
      ]
     },
     "metadata": {
      "needs_background": "light"
     },
     "output_type": "display_data"
    }
   ],
   "source": [
    "image_file_name = \"12.1.jpg\"\n",
    "image = cv2.imread(image_file_name)\n",
    "number_image = proprocess(image,is_single_digit=False)\n",
    "number = get_digits(number_image)\n",
    "print(number)\n",
    "plt.imshow(image, cmap='gray')\n",
    "plt.axis('off')\n",
    "plt.show()"
   ]
  },
  {
   "cell_type": "markdown",
   "metadata": {},
   "source": [
    "## Section 7.2 : test 2 : 967"
   ]
  },
  {
   "cell_type": "code",
   "execution_count": 122,
   "metadata": {},
   "outputs": [
    {
     "name": "stdout",
     "output_type": "stream",
     "text": [
      "1/1 [==============================] - 0s 20ms/step\n",
      "9\n"
     ]
    },
    {
     "name": "stdout",
     "output_type": "stream",
     "text": [
      "1/1 [==============================] - 0s 44ms/step\n",
      "96\n",
      "1/1 [==============================] - 0s 21ms/step\n",
      "967\n",
      "967\n"
     ]
    },
    {
     "data": {
      "image/png": "[encoded data removed]",
      "text/plain": [
       "<Figure size 432x288 with 1 Axes>"
      ]
     },
     "metadata": {
      "needs_background": "light"
     },
     "output_type": "display_data"
    }
   ],
   "source": [
    "image_file_name = \"967.jpg\"\n",
    "image = cv2.imread(image_file_name)\n",
    "number_image = proprocess(image,is_single_digit=False)\n",
    "number = get_digits(number_image)\n",
    "print(number)\n",
    "plt.imshow(image, cmap='gray')\n",
    "plt.axis('off')\n",
    "plt.show()"
   ]
  },
  {
   "cell_type": "markdown",
   "metadata": {},
   "source": [
    "## Section 7.3 : code in action."
   ]
  },
  {
   "cell_type": "code",
   "execution_count": 123,
   "metadata": {},
   "outputs": [
    {
     "data": {
      "image/png": "[encoded data removed]",
      "text/plain": [
       "<Figure size 432x288 with 1 Axes>"
      ]
     },
     "metadata": {
      "needs_background": "light"
     },
     "output_type": "display_data"
    },
    {
     "data": {
      "image/png": "[encoded data removed]",
      "text/plain": [
       "<Figure size 432x288 with 1 Axes>"
      ]
     },
     "metadata": {
      "needs_background": "light"
     },
     "output_type": "display_data"
    },
    {
     "name": "stdout",
     "output_type": "stream",
     "text": [
      "1/1 [==============================] - 0s 17ms/step\n",
      "1\n"
     ]
    },
    {
     "data": {
      "image/png": "[encoded data removed]",
      "text/plain": [
       "<Figure size 432x288 with 1 Axes>"
      ]
     },
     "metadata": {
      "needs_background": "light"
     },
     "output_type": "display_data"
    },
    {
     "data": {
      "image/png": "[encoded data removed]",
      "text/plain": [
       "<Figure size 432x288 with 1 Axes>"
      ]
     },
     "metadata": {
      "needs_background": "light"
     },
     "output_type": "display_data"
    },
    {
     "name": "stdout",
     "output_type": "stream",
     "text": [
      "1/1 [==============================] - 0s 15ms/step\n",
      "2\n"
     ]
    },
    {
     "data": {
      "image/png": "[encoded data removed]",
      "text/plain": [
       "<Figure size 432x288 with 1 Axes>"
      ]
     },
     "metadata": {
      "needs_background": "light"
     },
     "output_type": "display_data"
    }
   ],
   "source": [
    "\n",
    "\n",
    "\n",
    "image_file_name = \"12.1.jpg\"\n",
    "image = cv2.imread(image_file_name)\n",
    "image = cv2.GaussianBlur(image, (1, 1), 0)\n",
    "image = cv2.medianBlur(image, 3)\n",
    "grayscale_image = cv2.cvtColor(image, cv2.COLOR_BGR2GRAY)\n",
    "        \n",
    "        \n",
    "threshold_value = 200\n",
    "replacement_value = 0\n",
    "mask = grayscale_image < threshold_value\n",
    "        \n",
    "grayscale_image[mask] = replacement_value\n",
    "\n",
    "        \n",
    "\n",
    "\n",
    "size = (2, 2)\n",
    "shape = cv2.MORPH_RECT\n",
    "kernel = cv2.getStructuringElement(shape, size)\n",
    "min_image = cv2.erode(grayscale_image, kernel)\n",
    "\n",
    "min_image =  255 - min_image\n",
    "        \n",
    "        \n",
    "\n",
    "plt.imshow(min_image, cmap='gray')\n",
    "plt.show()\n",
    "_, binary = cv2.threshold(min_image, 40, 255, cv2.THRESH_BINARY)\n",
    "\n",
    "contours, _ = cv2.findContours(binary, cv2.RETR_EXTERNAL, cv2.CHAIN_APPROX_SIMPLE)\n",
    "\n",
    "\n",
    "for contour in contours:\n",
    "    if cv2.contourArea(contour) >= 80:\n",
    "        x, y, w, h = cv2.boundingRect(contour)\n",
    "\n",
    "        cropped = min_image[y:y+h, x:x+w]\n",
    "        \n",
    "        height, width = cropped.shape\n",
    "        cropped = cv2.copyMakeBorder(cropped, height//2, height//2, width, width, cv2.BORDER_CONSTANT)\n",
    "        plt.imshow(cropped, cmap='gray')\n",
    "        plt.axis('off')\n",
    "        plt.show()\n",
    "        cropped = cv2.resize(cropped, (28,28))\n",
    "        _,cropped = cv2.threshold(cropped, 40, 255, cv2.THRESH_BINARY)\n",
    "        flatten_image = cropped.flatten()\n",
    "        flatten_image = flatten_image.reshape(1, -1)\n",
    "        flatten_image = flatten_image.astype('float32') / 255\n",
    "        flatten_image = flatten_image.reshape((28, 28, 1)) \n",
    "        predictions = CNN_model.predict(np.expand_dims(flatten_image, axis=0))\n",
    "        print(np.argmax(predictions[0])) \n",
    "        plt.imshow(cropped, cmap='gray')\n",
    "        plt.axis('off')\n",
    "        plt.show()\n"
   ]
  }
 ],
 "metadata": {
  "kernelspec": {
   "display_name": "Python 3",
   "language": "python",
   "name": "python3"
  },
  "language_info": {
   "codemirror_mode": {
    "name": "ipython",
    "version": 3
   },
   "file_extension": ".py",
   "mimetype": "text/x-python",
   "name": "python",
   "nbconvert_exporter": "python",
   "pygments_lexer": "ipython3",
   "version": "3.9.5"
  }
 },
 "nbformat": 4,
 "nbformat_minor": 2
}
